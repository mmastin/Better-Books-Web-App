{
 "cells": [
  {
   "cell_type": "code",
   "execution_count": 2,
   "metadata": {},
   "outputs": [],
   "source": [
    "# import spacy"
   ]
  },
  {
   "cell_type": "code",
   "execution_count": 1,
   "metadata": {},
   "outputs": [],
   "source": [
    "# !python -m spacy download en_core_web_lg\n",
    "import spacy\n",
    "import pandas as pd\n",
    "import numpy as np\n",
    "import spacy\n",
    "import json\n",
    "from spacy.lang.en import English"
   ]
  },
  {
   "cell_type": "code",
   "execution_count": 2,
   "metadata": {},
   "outputs": [
    {
     "name": "stdout",
     "output_type": "stream",
     "text": [
      "CPU times: user 3 µs, sys: 1 µs, total: 4 µs\n",
      "Wall time: 8.11 µs\n"
     ]
    }
   ],
   "source": [
    "#load the csv\n",
    "%time\n",
    "filename = '/Users/mattmastin/Desktop/trimmed_20k.csv'\n",
    "df = pd.read_csv(filename).drop('Unnamed: 0', axis=1)"
   ]
  },
  {
   "cell_type": "code",
   "execution_count": 24,
   "metadata": {},
   "outputs": [
    {
     "data": {
      "text/html": [
       "<div>\n",
       "<style scoped>\n",
       "    .dataframe tbody tr th:only-of-type {\n",
       "        vertical-align: middle;\n",
       "    }\n",
       "\n",
       "    .dataframe tbody tr th {\n",
       "        vertical-align: top;\n",
       "    }\n",
       "\n",
       "    .dataframe thead th {\n",
       "        text-align: right;\n",
       "    }\n",
       "</style>\n",
       "<table border=\"1\" class=\"dataframe\">\n",
       "  <thead>\n",
       "    <tr style=\"text-align: right;\">\n",
       "      <th></th>\n",
       "      <th>book_title</th>\n",
       "      <th>author</th>\n",
       "      <th>avg_rating</th>\n",
       "      <th>ISBN</th>\n",
       "      <th>genre</th>\n",
       "      <th>description</th>\n",
       "    </tr>\n",
       "  </thead>\n",
       "  <tbody>\n",
       "    <tr>\n",
       "      <th>0</th>\n",
       "      <td>The Hunger Games (The Hunger Games, #1)</td>\n",
       "      <td>Suzanne Collins</td>\n",
       "      <td>4.33</td>\n",
       "      <td>439023483</td>\n",
       "      <td>['Young Adult', 'Fiction', 'Science Fiction', ...</td>\n",
       "      <td>Could you survive on your own, in the wild, wi...</td>\n",
       "    </tr>\n",
       "    <tr>\n",
       "      <th>1</th>\n",
       "      <td>Harry Potter and the Order of the Phoenix (Har...</td>\n",
       "      <td>J.K. Rowling</td>\n",
       "      <td>4.49</td>\n",
       "      <td>439358078</td>\n",
       "      <td>['Fantasy', 'Young Adult', 'Fiction']</td>\n",
       "      <td>There is a door at the end of a silent corrido...</td>\n",
       "    </tr>\n",
       "    <tr>\n",
       "      <th>2</th>\n",
       "      <td>Twilight (Twilight, #1)</td>\n",
       "      <td>Stephenie Meyer</td>\n",
       "      <td>3.59</td>\n",
       "      <td>316015849</td>\n",
       "      <td>['Young Adult', 'Fantasy', 'Romance', 'Paranor...</td>\n",
       "      <td>About three things I was absolutely positive.F...</td>\n",
       "    </tr>\n",
       "    <tr>\n",
       "      <th>3</th>\n",
       "      <td>The Book Thief</td>\n",
       "      <td>Markus Zusak (Goodreads Author)</td>\n",
       "      <td>4.37</td>\n",
       "      <td>375831002</td>\n",
       "      <td>['Historical', 'Historical Fiction', 'Fiction'...</td>\n",
       "      <td>It is 1939. Nazi Germany. The country is holdi...</td>\n",
       "    </tr>\n",
       "    <tr>\n",
       "      <th>4</th>\n",
       "      <td>Animal Farm</td>\n",
       "      <td>George Orwell</td>\n",
       "      <td>3.92</td>\n",
       "      <td>452284244</td>\n",
       "      <td>['Classics', 'Fiction', 'Science Fiction', 'Dy...</td>\n",
       "      <td>George Orwell's timeless and timely allegorica...</td>\n",
       "    </tr>\n",
       "  </tbody>\n",
       "</table>\n",
       "</div>"
      ],
      "text/plain": [
       "                                          book_title  \\\n",
       "0            The Hunger Games (The Hunger Games, #1)   \n",
       "1  Harry Potter and the Order of the Phoenix (Har...   \n",
       "2                            Twilight (Twilight, #1)   \n",
       "3                                     The Book Thief   \n",
       "4                                        Animal Farm   \n",
       "\n",
       "                            author  avg_rating       ISBN  \\\n",
       "0                  Suzanne Collins        4.33  439023483   \n",
       "1                     J.K. Rowling        4.49  439358078   \n",
       "2                  Stephenie Meyer        3.59  316015849   \n",
       "3  Markus Zusak (Goodreads Author)        4.37  375831002   \n",
       "4                    George Orwell        3.92  452284244   \n",
       "\n",
       "                                               genre  \\\n",
       "0  ['Young Adult', 'Fiction', 'Science Fiction', ...   \n",
       "1              ['Fantasy', 'Young Adult', 'Fiction']   \n",
       "2  ['Young Adult', 'Fantasy', 'Romance', 'Paranor...   \n",
       "3  ['Historical', 'Historical Fiction', 'Fiction'...   \n",
       "4  ['Classics', 'Fiction', 'Science Fiction', 'Dy...   \n",
       "\n",
       "                                         description  \n",
       "0  Could you survive on your own, in the wild, wi...  \n",
       "1  There is a door at the end of a silent corrido...  \n",
       "2  About three things I was absolutely positive.F...  \n",
       "3  It is 1939. Nazi Germany. The country is holdi...  \n",
       "4  George Orwell's timeless and timely allegorica...  "
      ]
     },
     "execution_count": 24,
     "metadata": {},
     "output_type": "execute_result"
    }
   ],
   "source": [
    "df.head()"
   ]
  },
  {
   "cell_type": "code",
   "execution_count": 25,
   "metadata": {},
   "outputs": [
    {
     "name": "stdout",
     "output_type": "stream",
     "text": [
      "<class 'pandas.core.frame.DataFrame'>\n",
      "RangeIndex: 19900 entries, 0 to 19899\n",
      "Data columns (total 6 columns):\n",
      "book_title     19900 non-null object\n",
      "author         19900 non-null object\n",
      "avg_rating     19900 non-null float64\n",
      "ISBN           19900 non-null int64\n",
      "genre          19900 non-null object\n",
      "description    19900 non-null object\n",
      "dtypes: float64(1), int64(1), object(4)\n",
      "memory usage: 932.9+ KB\n"
     ]
    }
   ],
   "source": [
    "df.info()"
   ]
  },
  {
   "cell_type": "code",
   "execution_count": 3,
   "metadata": {},
   "outputs": [
    {
     "ename": "TypeError",
     "evalue": "float() argument must be a string or a number, not '_iLocIndexer'",
     "output_type": "error",
     "traceback": [
      "\u001b[0;31m---------------------------------------------------------------------------\u001b[0m",
      "\u001b[0;31mTypeError\u001b[0m                                 Traceback (most recent call last)",
      "\u001b[0;32m<ipython-input-3-c38d53fb6f9b>\u001b[0m in \u001b[0;36m<module>\u001b[0;34m\u001b[0m\n\u001b[0;32m----> 1\u001b[0;31m \u001b[0mdf\u001b[0m\u001b[0;34m[\u001b[0m\u001b[0;34m'avg_rating'\u001b[0m\u001b[0;34m]\u001b[0m \u001b[0;34m=\u001b[0m \u001b[0mfloat\u001b[0m\u001b[0;34m(\u001b[0m\u001b[0mdf\u001b[0m\u001b[0;34m[\u001b[0m\u001b[0;34m'avg_rating'\u001b[0m\u001b[0;34m]\u001b[0m\u001b[0;34m.\u001b[0m\u001b[0miloc\u001b[0m\u001b[0;34m)\u001b[0m\u001b[0;34m\u001b[0m\u001b[0;34m\u001b[0m\u001b[0m\n\u001b[0m\u001b[1;32m      2\u001b[0m \u001b[0mdf\u001b[0m\u001b[0;34m[\u001b[0m\u001b[0;34m'ISBN'\u001b[0m\u001b[0;34m]\u001b[0m \u001b[0;34m=\u001b[0m \u001b[0mint\u001b[0m\u001b[0;34m(\u001b[0m\u001b[0mdf\u001b[0m\u001b[0;34m[\u001b[0m\u001b[0;34m'ISBN'\u001b[0m\u001b[0;34m]\u001b[0m\u001b[0;34m.\u001b[0m\u001b[0miloc\u001b[0m\u001b[0;34m)\u001b[0m\u001b[0;34m\u001b[0m\u001b[0;34m\u001b[0m\u001b[0m\n",
      "\u001b[0;31mTypeError\u001b[0m: float() argument must be a string or a number, not '_iLocIndexer'"
     ]
    }
   ],
   "source": [
    "df['avg_rating'] = float(df['avg_rating'].iloc)\n",
    "df['ISBN'] = int(df['ISBN'].iloc)"
   ]
  },
  {
   "cell_type": "code",
   "execution_count": 27,
   "metadata": {},
   "outputs": [
    {
     "name": "stdout",
     "output_type": "stream",
     "text": [
      "<class 'pandas.core.frame.DataFrame'>\n",
      "RangeIndex: 19900 entries, 0 to 19899\n",
      "Data columns (total 6 columns):\n",
      "book_title     19900 non-null object\n",
      "author         19900 non-null object\n",
      "avg_rating     19900 non-null float64\n",
      "ISBN           19900 non-null int64\n",
      "genre          19900 non-null object\n",
      "description    19900 non-null object\n",
      "dtypes: float64(1), int64(1), object(4)\n",
      "memory usage: 932.9+ KB\n"
     ]
    }
   ],
   "source": [
    "df.info()"
   ]
  },
  {
   "cell_type": "code",
   "execution_count": 31,
   "metadata": {},
   "outputs": [
    {
     "data": {
      "text/html": [
       "<div>\n",
       "<style scoped>\n",
       "    .dataframe tbody tr th:only-of-type {\n",
       "        vertical-align: middle;\n",
       "    }\n",
       "\n",
       "    .dataframe tbody tr th {\n",
       "        vertical-align: top;\n",
       "    }\n",
       "\n",
       "    .dataframe thead th {\n",
       "        text-align: right;\n",
       "    }\n",
       "</style>\n",
       "<table border=\"1\" class=\"dataframe\">\n",
       "  <thead>\n",
       "    <tr style=\"text-align: right;\">\n",
       "      <th></th>\n",
       "      <th>book_title</th>\n",
       "      <th>author</th>\n",
       "      <th>avg_rating</th>\n",
       "      <th>ISBN</th>\n",
       "      <th>genre</th>\n",
       "      <th>description</th>\n",
       "    </tr>\n",
       "  </thead>\n",
       "  <tbody>\n",
       "    <tr>\n",
       "      <th>0</th>\n",
       "      <td>The Hunger Games (The Hunger Games, #1)</td>\n",
       "      <td>Suzanne Collins</td>\n",
       "      <td>4.33</td>\n",
       "      <td>439023483</td>\n",
       "      <td>['Young Adult', 'Fiction', 'Science Fiction', ...</td>\n",
       "      <td>Could you survive on your own, in the wild, wi...</td>\n",
       "    </tr>\n",
       "    <tr>\n",
       "      <th>1</th>\n",
       "      <td>Harry Potter and the Order of the Phoenix (Har...</td>\n",
       "      <td>J.K. Rowling</td>\n",
       "      <td>4.33</td>\n",
       "      <td>439023483</td>\n",
       "      <td>['Fantasy', 'Young Adult', 'Fiction']</td>\n",
       "      <td>There is a door at the end of a silent corrido...</td>\n",
       "    </tr>\n",
       "    <tr>\n",
       "      <th>2</th>\n",
       "      <td>Twilight (Twilight, #1)</td>\n",
       "      <td>Stephenie Meyer</td>\n",
       "      <td>4.33</td>\n",
       "      <td>439023483</td>\n",
       "      <td>['Young Adult', 'Fantasy', 'Romance', 'Paranor...</td>\n",
       "      <td>About three things I was absolutely positive.F...</td>\n",
       "    </tr>\n",
       "    <tr>\n",
       "      <th>3</th>\n",
       "      <td>The Book Thief</td>\n",
       "      <td>Markus Zusak (Goodreads Author)</td>\n",
       "      <td>4.33</td>\n",
       "      <td>439023483</td>\n",
       "      <td>['Historical', 'Historical Fiction', 'Fiction'...</td>\n",
       "      <td>It is 1939. Nazi Germany. The country is holdi...</td>\n",
       "    </tr>\n",
       "    <tr>\n",
       "      <th>4</th>\n",
       "      <td>Animal Farm</td>\n",
       "      <td>George Orwell</td>\n",
       "      <td>4.33</td>\n",
       "      <td>439023483</td>\n",
       "      <td>['Classics', 'Fiction', 'Science Fiction', 'Dy...</td>\n",
       "      <td>George Orwell's timeless and timely allegorica...</td>\n",
       "    </tr>\n",
       "  </tbody>\n",
       "</table>\n",
       "</div>"
      ],
      "text/plain": [
       "                                          book_title  \\\n",
       "0            The Hunger Games (The Hunger Games, #1)   \n",
       "1  Harry Potter and the Order of the Phoenix (Har...   \n",
       "2                            Twilight (Twilight, #1)   \n",
       "3                                     The Book Thief   \n",
       "4                                        Animal Farm   \n",
       "\n",
       "                            author  avg_rating       ISBN  \\\n",
       "0                  Suzanne Collins        4.33  439023483   \n",
       "1                     J.K. Rowling        4.33  439023483   \n",
       "2                  Stephenie Meyer        4.33  439023483   \n",
       "3  Markus Zusak (Goodreads Author)        4.33  439023483   \n",
       "4                    George Orwell        4.33  439023483   \n",
       "\n",
       "                                               genre  \\\n",
       "0  ['Young Adult', 'Fiction', 'Science Fiction', ...   \n",
       "1              ['Fantasy', 'Young Adult', 'Fiction']   \n",
       "2  ['Young Adult', 'Fantasy', 'Romance', 'Paranor...   \n",
       "3  ['Historical', 'Historical Fiction', 'Fiction'...   \n",
       "4  ['Classics', 'Fiction', 'Science Fiction', 'Dy...   \n",
       "\n",
       "                                         description  \n",
       "0  Could you survive on your own, in the wild, wi...  \n",
       "1  There is a door at the end of a silent corrido...  \n",
       "2  About three things I was absolutely positive.F...  \n",
       "3  It is 1939. Nazi Germany. The country is holdi...  \n",
       "4  George Orwell's timeless and timely allegorica...  "
      ]
     },
     "execution_count": 31,
     "metadata": {},
     "output_type": "execute_result"
    }
   ],
   "source": [
    "df.head()"
   ]
  },
  {
   "cell_type": "code",
   "execution_count": 4,
   "metadata": {},
   "outputs": [
    {
     "name": "stdout",
     "output_type": "stream",
     "text": [
      "CPU times: user 4 µs, sys: 1 µs, total: 5 µs\n",
      "Wall time: 5.96 µs\n"
     ]
    }
   ],
   "source": [
    "#create the spacy docs column of the book descriptions\n",
    "%time\n",
    "nlp = spacy.load(\"en_core_web_sm\")\n",
    "docs = list(nlp.pipe(df.description))\n",
    "df['docs'] = docs"
   ]
  },
  {
   "cell_type": "code",
   "execution_count": null,
   "metadata": {},
   "outputs": [],
   "source": [
    "#pickle the df for fast loading after server restart:\n",
    "df.to_pickle('df_pickle.pkl', compression='infer')"
   ]
  },
  {
   "cell_type": "code",
   "execution_count": 8,
   "metadata": {},
   "outputs": [],
   "source": [
    "#dependencies: pandas, numpy, json, spacy, and en_core_web_lg (python -m spacy download en_core_web_lg)\n",
    "\n",
    "# import pandas as pd\n",
    "# import numpy as np\n",
    "# import spacy\n",
    "# import json\n",
    "# from spacy.lang.en import English\n",
    "\n",
    "# #load the csv\n",
    "# filename = '/Users/mattmastin/Desktop/trimmed_20k.csv'\n",
    "# df = pd.read_csv(filename).drop('Unnamed: 0', axis=1)\n",
    "\n",
    "# #create the spacy docs column of the book descriptions\n",
    "# nlp = spacy.load(\"en_core_web_lg\")\n",
    "# docs = list(nlp.pipe(df.description))\n",
    "# df['docs'] = docs\n",
    "\n",
    "\n",
    "\n",
    "#to load the pickled df back in the future:\n",
    "df = pd.read_pickle('df_pickle.pkl')\n",
    "\n",
    "\n",
    "#Functions:\n",
    "\n",
    "def get_recs_from_desc(input_string, from_isbn=False):\n",
    "    '''Takes a book description, converts to a spacy doc object and \n",
    "    calculates the similarity score for all other books in the dataframe \n",
    "    (variable called df), sorts and returns the top 10 as a json object\n",
    "    containing title, author, avg rating and ISBN'''\n",
    "    \n",
    "    #convert input string of hypthetical book description into spacy doc object\n",
    "    test_doc = nlp(input_string)\n",
    "    \n",
    "    #instantiate empty list of similarity scores:\n",
    "    sims = []\n",
    "    \n",
    "    #iterate over the doc object for each book in the df to get the similarity score and append to list\n",
    "    for doc in df.docs:\n",
    "        sim = test_doc.similarity(doc)\n",
    "        sims.append(sim)\n",
    "    \n",
    "    #sort the list and grab the top 10:\n",
    "    if from_isbn:\n",
    "        #skip the 0th ranked book which will be the bookused to get the input_string of the description:\n",
    "        top10 = pd.Series(sims).sort_values(ascending=False).iloc[1:11]\n",
    "    else:\n",
    "        top10 = pd.Series(sims).sort_values(ascending=False).iloc[:10]\n",
    "    \n",
    "    #instantiate empty list to store the python dicts of each book\n",
    "    books = []\n",
    "    \n",
    "    #iterate thru the top 10 ranked simlilar books and populate the book list w/ dictionaries for each book\n",
    "    for i in top10.index:\n",
    "        book = {}\n",
    "        book['title'] = df.iloc[i]['book_title']\n",
    "        book['author'] = df.iloc[i]['author']\n",
    "        book['avg_rating'] = df.iloc[i]['avg_rating']\n",
    "        book['ISBN'] = df.iloc[i]['ISBN']\n",
    "        books.append(book)\n",
    "    return json.dumps(books)\n",
    "\n",
    "\n",
    "def get_books_by_author(author):\n",
    "    '''Takes an authors name string input and returns json object of the top 10 highest rated books \n",
    "    by that author'''\n",
    "    \n",
    "    #limited to top 10- can return all books by author if we want (or fewer)\n",
    "    books_df = df[df.author == author].sort_values('avg_rating', ascending=False).reset_index().head(10)\n",
    "    \n",
    "    #if no books by that author are found, returns error message (string)\n",
    "    if len(books_df) == 0:\n",
    "        return 'Author not found in database- check for correct spelling'\n",
    "    \n",
    "    #instantiate empty list to store the python dicts of each book\n",
    "    books = []\n",
    "    \n",
    "    #iterate thru the authors books and populate the book list with dictionaries for each book\n",
    "    for i in range(len(books_df)):\n",
    "        book = {}\n",
    "        book['title'] = books_df.iloc[i]['book_title']\n",
    "        book['author'] = books_df.iloc[i]['author']\n",
    "        book['avg_rating'] = books_df.iloc[i]['avg_rating']\n",
    "        book['ISBN'] = books_df.iloc[i]['ISBN']\n",
    "        books.append(book)\n",
    "    \n",
    "    #return the list of dictionaries (books) as json object:\n",
    "    return json.dumps(books)\n",
    "\n",
    "#user clicks on a book by author, that should send us the isbn and we will get the book \n",
    "#description from df and return recommendations based on that\n",
    "\n",
    "def get_recs_from_isbn(ISBN):\n",
    "    #get the book description from df:\n",
    "    description = df[df['ISBN']== ISBN].description\n",
    "    \n",
    "    #pass in the description to the get recommendations function and set from_isbn=True\n",
    "    return get_recs_from_desc(description, from_isbn=True)\n"
   ]
  },
  {
   "cell_type": "code",
   "execution_count": 28,
   "metadata": {},
   "outputs": [],
   "source": [
    "def get_recs_from_desc(input_string, from_isbn=False):\n",
    "    '''Takes a book description, converts to a spacy doc object and \n",
    "    calculates the similarity score for all other books in the dataframe \n",
    "    (variable called df), sorts and returns the top 10 as a json object\n",
    "    containing title, author, avg rating and ISBN'''\n",
    "    \n",
    "    #convert input string of hypthetical book description into spacy doc object\n",
    "    test_doc = nlp(input_string)\n",
    "    \n",
    "    #instantiate empty list of similarity scores:\n",
    "    sims = []\n",
    "    \n",
    "    #iterate over the doc object for each book in the df to get the similarity score and append to list\n",
    "    for doc in df.docs:\n",
    "        sim = test_doc.similarity(doc)\n",
    "        sims.append(sim)\n",
    "    \n",
    "    #sort the list and grab the top 10:\n",
    "    if from_isbn:\n",
    "        #skip the 0th ranked book which will be the bookused to get the input_string of the description:\n",
    "        top10 = pd.Series(sims).sort_values(ascending=False).iloc[1:11]\n",
    "    else:\n",
    "        top10 = pd.Series(sims).sort_values(ascending=False).iloc[:10]\n",
    "    \n",
    "    #instantiate empty list to store the python dicts of each book\n",
    "    books = []\n",
    "    \n",
    "    #iterate thru the top 10 ranked simlilar books and populate the book list w/ dictionaries for each book\n",
    "    for i in top10.index:\n",
    "        book = {}\n",
    "        book['title'] = df.iloc[i]['book_title']\n",
    "        book['author'] = df.iloc[i]['author']\n",
    "        book['avg_rating'] = df.iloc[i]['avg_rating']\n",
    "        book['ISBN'] = df.iloc[i]['ISBN']\n",
    "        books.append(book)\n",
    "    return books"
   ]
  },
  {
   "cell_type": "code",
   "execution_count": 29,
   "metadata": {},
   "outputs": [],
   "source": [
    "example = 'thrilling spy novel set in post war Russia'"
   ]
  },
  {
   "cell_type": "code",
   "execution_count": 30,
   "metadata": {},
   "outputs": [
    {
     "name": "stdout",
     "output_type": "stream",
     "text": [
      "CPU times: user 30 µs, sys: 0 ns, total: 30 µs\n",
      "Wall time: 34.1 µs\n"
     ]
    },
    {
     "ename": "AttributeError",
     "evalue": "'DataFrame' object has no attribute 'docs'",
     "output_type": "error",
     "traceback": [
      "\u001b[0;31m---------------------------------------------------------------------------\u001b[0m",
      "\u001b[0;31mAttributeError\u001b[0m                            Traceback (most recent call last)",
      "\u001b[0;32m<ipython-input-30-40373515a6d9>\u001b[0m in \u001b[0;36m<module>\u001b[0;34m\u001b[0m\n\u001b[1;32m      1\u001b[0m \u001b[0mget_ipython\u001b[0m\u001b[0;34m(\u001b[0m\u001b[0;34m)\u001b[0m\u001b[0;34m.\u001b[0m\u001b[0mrun_line_magic\u001b[0m\u001b[0;34m(\u001b[0m\u001b[0;34m'time'\u001b[0m\u001b[0;34m,\u001b[0m \u001b[0;34m''\u001b[0m\u001b[0;34m)\u001b[0m\u001b[0;34m\u001b[0m\u001b[0;34m\u001b[0m\u001b[0m\n\u001b[0;32m----> 2\u001b[0;31m \u001b[0mget_recs_from_desc\u001b[0m\u001b[0;34m(\u001b[0m\u001b[0mexample\u001b[0m\u001b[0;34m)\u001b[0m\u001b[0;34m\u001b[0m\u001b[0;34m\u001b[0m\u001b[0m\n\u001b[0m",
      "\u001b[0;32m<ipython-input-28-36e1171894d6>\u001b[0m in \u001b[0;36mget_recs_from_desc\u001b[0;34m(input_string, from_isbn)\u001b[0m\n\u001b[1;32m     12\u001b[0m \u001b[0;34m\u001b[0m\u001b[0m\n\u001b[1;32m     13\u001b[0m     \u001b[0;31m#iterate over the doc object for each book in the df to get the similarity score and append to list\u001b[0m\u001b[0;34m\u001b[0m\u001b[0;34m\u001b[0m\u001b[0;34m\u001b[0m\u001b[0m\n\u001b[0;32m---> 14\u001b[0;31m     \u001b[0;32mfor\u001b[0m \u001b[0mdoc\u001b[0m \u001b[0;32min\u001b[0m \u001b[0mdf\u001b[0m\u001b[0;34m.\u001b[0m\u001b[0mdocs\u001b[0m\u001b[0;34m:\u001b[0m\u001b[0;34m\u001b[0m\u001b[0;34m\u001b[0m\u001b[0m\n\u001b[0m\u001b[1;32m     15\u001b[0m         \u001b[0msim\u001b[0m \u001b[0;34m=\u001b[0m \u001b[0mtest_doc\u001b[0m\u001b[0;34m.\u001b[0m\u001b[0msimilarity\u001b[0m\u001b[0;34m(\u001b[0m\u001b[0mdoc\u001b[0m\u001b[0;34m)\u001b[0m\u001b[0;34m\u001b[0m\u001b[0;34m\u001b[0m\u001b[0m\n\u001b[1;32m     16\u001b[0m         \u001b[0msims\u001b[0m\u001b[0;34m.\u001b[0m\u001b[0mappend\u001b[0m\u001b[0;34m(\u001b[0m\u001b[0msim\u001b[0m\u001b[0;34m)\u001b[0m\u001b[0;34m\u001b[0m\u001b[0;34m\u001b[0m\u001b[0m\n",
      "\u001b[0;32m~/anaconda3/lib/python3.7/site-packages/pandas/core/generic.py\u001b[0m in \u001b[0;36m__getattr__\u001b[0;34m(self, name)\u001b[0m\n\u001b[1;32m   4374\u001b[0m             \u001b[0;32mif\u001b[0m \u001b[0mself\u001b[0m\u001b[0;34m.\u001b[0m\u001b[0m_info_axis\u001b[0m\u001b[0;34m.\u001b[0m\u001b[0m_can_hold_identifiers_and_holds_name\u001b[0m\u001b[0;34m(\u001b[0m\u001b[0mname\u001b[0m\u001b[0;34m)\u001b[0m\u001b[0;34m:\u001b[0m\u001b[0;34m\u001b[0m\u001b[0;34m\u001b[0m\u001b[0m\n\u001b[1;32m   4375\u001b[0m                 \u001b[0;32mreturn\u001b[0m \u001b[0mself\u001b[0m\u001b[0;34m[\u001b[0m\u001b[0mname\u001b[0m\u001b[0;34m]\u001b[0m\u001b[0;34m\u001b[0m\u001b[0;34m\u001b[0m\u001b[0m\n\u001b[0;32m-> 4376\u001b[0;31m             \u001b[0;32mreturn\u001b[0m \u001b[0mobject\u001b[0m\u001b[0;34m.\u001b[0m\u001b[0m__getattribute__\u001b[0m\u001b[0;34m(\u001b[0m\u001b[0mself\u001b[0m\u001b[0;34m,\u001b[0m \u001b[0mname\u001b[0m\u001b[0;34m)\u001b[0m\u001b[0;34m\u001b[0m\u001b[0;34m\u001b[0m\u001b[0m\n\u001b[0m\u001b[1;32m   4377\u001b[0m \u001b[0;34m\u001b[0m\u001b[0m\n\u001b[1;32m   4378\u001b[0m     \u001b[0;32mdef\u001b[0m \u001b[0m__setattr__\u001b[0m\u001b[0;34m(\u001b[0m\u001b[0mself\u001b[0m\u001b[0;34m,\u001b[0m \u001b[0mname\u001b[0m\u001b[0;34m,\u001b[0m \u001b[0mvalue\u001b[0m\u001b[0;34m)\u001b[0m\u001b[0;34m:\u001b[0m\u001b[0;34m\u001b[0m\u001b[0;34m\u001b[0m\u001b[0m\n",
      "\u001b[0;31mAttributeError\u001b[0m: 'DataFrame' object has no attribute 'docs'"
     ]
    }
   ],
   "source": [
    "%time\n",
    "get_recs_from_desc(example)"
   ]
  },
  {
   "cell_type": "code",
   "execution_count": null,
   "metadata": {},
   "outputs": [],
   "source": []
  },
  {
   "cell_type": "code",
   "execution_count": 16,
   "metadata": {},
   "outputs": [
    {
     "name": "stdout",
     "output_type": "stream",
     "text": [
      "CPU times: user 3 µs, sys: 1e+03 ns, total: 4 µs\n",
      "Wall time: 6.91 µs\n"
     ]
    }
   ],
   "source": [
    "%time\n",
    "example2 = 'dog and cat lover gets into trouble'\n",
    "output = get_recs_from_desc(example2)"
   ]
  },
  {
   "cell_type": "code",
   "execution_count": 17,
   "metadata": {},
   "outputs": [
    {
     "ename": "TypeError",
     "evalue": "Object of type int64 is not JSON serializable",
     "output_type": "error",
     "traceback": [
      "\u001b[0;31m---------------------------------------------------------------------------\u001b[0m",
      "\u001b[0;31mTypeError\u001b[0m                                 Traceback (most recent call last)",
      "\u001b[0;32m<ipython-input-17-d55efce3fd49>\u001b[0m in \u001b[0;36m<module>\u001b[0;34m\u001b[0m\n\u001b[0;32m----> 1\u001b[0;31m \u001b[0mjson\u001b[0m\u001b[0;34m.\u001b[0m\u001b[0mdumps\u001b[0m\u001b[0;34m(\u001b[0m\u001b[0moutput\u001b[0m\u001b[0;34m)\u001b[0m\u001b[0;34m\u001b[0m\u001b[0;34m\u001b[0m\u001b[0m\n\u001b[0m",
      "\u001b[0;32m~/anaconda3/lib/python3.7/json/__init__.py\u001b[0m in \u001b[0;36mdumps\u001b[0;34m(obj, skipkeys, ensure_ascii, check_circular, allow_nan, cls, indent, separators, default, sort_keys, **kw)\u001b[0m\n\u001b[1;32m    229\u001b[0m         \u001b[0mcls\u001b[0m \u001b[0;32mis\u001b[0m \u001b[0;32mNone\u001b[0m \u001b[0;32mand\u001b[0m \u001b[0mindent\u001b[0m \u001b[0;32mis\u001b[0m \u001b[0;32mNone\u001b[0m \u001b[0;32mand\u001b[0m \u001b[0mseparators\u001b[0m \u001b[0;32mis\u001b[0m \u001b[0;32mNone\u001b[0m \u001b[0;32mand\u001b[0m\u001b[0;34m\u001b[0m\u001b[0;34m\u001b[0m\u001b[0m\n\u001b[1;32m    230\u001b[0m         default is None and not sort_keys and not kw):\n\u001b[0;32m--> 231\u001b[0;31m         \u001b[0;32mreturn\u001b[0m \u001b[0m_default_encoder\u001b[0m\u001b[0;34m.\u001b[0m\u001b[0mencode\u001b[0m\u001b[0;34m(\u001b[0m\u001b[0mobj\u001b[0m\u001b[0;34m)\u001b[0m\u001b[0;34m\u001b[0m\u001b[0;34m\u001b[0m\u001b[0m\n\u001b[0m\u001b[1;32m    232\u001b[0m     \u001b[0;32mif\u001b[0m \u001b[0mcls\u001b[0m \u001b[0;32mis\u001b[0m \u001b[0;32mNone\u001b[0m\u001b[0;34m:\u001b[0m\u001b[0;34m\u001b[0m\u001b[0;34m\u001b[0m\u001b[0m\n\u001b[1;32m    233\u001b[0m         \u001b[0mcls\u001b[0m \u001b[0;34m=\u001b[0m \u001b[0mJSONEncoder\u001b[0m\u001b[0;34m\u001b[0m\u001b[0;34m\u001b[0m\u001b[0m\n",
      "\u001b[0;32m~/anaconda3/lib/python3.7/json/encoder.py\u001b[0m in \u001b[0;36mencode\u001b[0;34m(self, o)\u001b[0m\n\u001b[1;32m    197\u001b[0m         \u001b[0;31m# exceptions aren't as detailed.  The list call should be roughly\u001b[0m\u001b[0;34m\u001b[0m\u001b[0;34m\u001b[0m\u001b[0;34m\u001b[0m\u001b[0m\n\u001b[1;32m    198\u001b[0m         \u001b[0;31m# equivalent to the PySequence_Fast that ''.join() would do.\u001b[0m\u001b[0;34m\u001b[0m\u001b[0;34m\u001b[0m\u001b[0;34m\u001b[0m\u001b[0m\n\u001b[0;32m--> 199\u001b[0;31m         \u001b[0mchunks\u001b[0m \u001b[0;34m=\u001b[0m \u001b[0mself\u001b[0m\u001b[0;34m.\u001b[0m\u001b[0miterencode\u001b[0m\u001b[0;34m(\u001b[0m\u001b[0mo\u001b[0m\u001b[0;34m,\u001b[0m \u001b[0m_one_shot\u001b[0m\u001b[0;34m=\u001b[0m\u001b[0;32mTrue\u001b[0m\u001b[0;34m)\u001b[0m\u001b[0;34m\u001b[0m\u001b[0;34m\u001b[0m\u001b[0m\n\u001b[0m\u001b[1;32m    200\u001b[0m         \u001b[0;32mif\u001b[0m \u001b[0;32mnot\u001b[0m \u001b[0misinstance\u001b[0m\u001b[0;34m(\u001b[0m\u001b[0mchunks\u001b[0m\u001b[0;34m,\u001b[0m \u001b[0;34m(\u001b[0m\u001b[0mlist\u001b[0m\u001b[0;34m,\u001b[0m \u001b[0mtuple\u001b[0m\u001b[0;34m)\u001b[0m\u001b[0;34m)\u001b[0m\u001b[0;34m:\u001b[0m\u001b[0;34m\u001b[0m\u001b[0;34m\u001b[0m\u001b[0m\n\u001b[1;32m    201\u001b[0m             \u001b[0mchunks\u001b[0m \u001b[0;34m=\u001b[0m \u001b[0mlist\u001b[0m\u001b[0;34m(\u001b[0m\u001b[0mchunks\u001b[0m\u001b[0;34m)\u001b[0m\u001b[0;34m\u001b[0m\u001b[0;34m\u001b[0m\u001b[0m\n",
      "\u001b[0;32m~/anaconda3/lib/python3.7/json/encoder.py\u001b[0m in \u001b[0;36miterencode\u001b[0;34m(self, o, _one_shot)\u001b[0m\n\u001b[1;32m    255\u001b[0m                 \u001b[0mself\u001b[0m\u001b[0;34m.\u001b[0m\u001b[0mkey_separator\u001b[0m\u001b[0;34m,\u001b[0m \u001b[0mself\u001b[0m\u001b[0;34m.\u001b[0m\u001b[0mitem_separator\u001b[0m\u001b[0;34m,\u001b[0m \u001b[0mself\u001b[0m\u001b[0;34m.\u001b[0m\u001b[0msort_keys\u001b[0m\u001b[0;34m,\u001b[0m\u001b[0;34m\u001b[0m\u001b[0;34m\u001b[0m\u001b[0m\n\u001b[1;32m    256\u001b[0m                 self.skipkeys, _one_shot)\n\u001b[0;32m--> 257\u001b[0;31m         \u001b[0;32mreturn\u001b[0m \u001b[0m_iterencode\u001b[0m\u001b[0;34m(\u001b[0m\u001b[0mo\u001b[0m\u001b[0;34m,\u001b[0m \u001b[0;36m0\u001b[0m\u001b[0;34m)\u001b[0m\u001b[0;34m\u001b[0m\u001b[0;34m\u001b[0m\u001b[0m\n\u001b[0m\u001b[1;32m    258\u001b[0m \u001b[0;34m\u001b[0m\u001b[0m\n\u001b[1;32m    259\u001b[0m def _make_iterencode(markers, _default, _encoder, _indent, _floatstr,\n",
      "\u001b[0;32m~/anaconda3/lib/python3.7/json/encoder.py\u001b[0m in \u001b[0;36mdefault\u001b[0;34m(self, o)\u001b[0m\n\u001b[1;32m    177\u001b[0m \u001b[0;34m\u001b[0m\u001b[0m\n\u001b[1;32m    178\u001b[0m         \"\"\"\n\u001b[0;32m--> 179\u001b[0;31m         raise TypeError(f'Object of type {o.__class__.__name__} '\n\u001b[0m\u001b[1;32m    180\u001b[0m                         f'is not JSON serializable')\n\u001b[1;32m    181\u001b[0m \u001b[0;34m\u001b[0m\u001b[0m\n",
      "\u001b[0;31mTypeError\u001b[0m: Object of type int64 is not JSON serializable"
     ]
    }
   ],
   "source": [
    "json.dumps(output)"
   ]
  },
  {
   "cell_type": "code",
   "execution_count": 19,
   "metadata": {},
   "outputs": [
    {
     "name": "stdout",
     "output_type": "stream",
     "text": [
      "<class 'pandas.core.frame.DataFrame'>\n",
      "RangeIndex: 19900 entries, 0 to 19899\n",
      "Data columns (total 7 columns):\n",
      "book_title     19900 non-null object\n",
      "author         19900 non-null object\n",
      "avg_rating     19900 non-null float64\n",
      "ISBN           19900 non-null int64\n",
      "genre          19900 non-null object\n",
      "description    19900 non-null object\n",
      "docs           19900 non-null object\n",
      "dtypes: float64(1), int64(1), object(5)\n",
      "memory usage: 1.1+ MB\n"
     ]
    }
   ],
   "source": [
    "df.info()"
   ]
  },
  {
   "cell_type": "code",
   "execution_count": 20,
   "metadata": {},
   "outputs": [],
   "source": [
    "df['avg_rating'] = int(df['avg_rating'].iloc[0])"
   ]
  },
  {
   "cell_type": "code",
   "execution_count": 21,
   "metadata": {},
   "outputs": [
    {
     "name": "stdout",
     "output_type": "stream",
     "text": [
      "<class 'pandas.core.frame.DataFrame'>\n",
      "RangeIndex: 19900 entries, 0 to 19899\n",
      "Data columns (total 7 columns):\n",
      "book_title     19900 non-null object\n",
      "author         19900 non-null object\n",
      "avg_rating     19900 non-null int64\n",
      "ISBN           19900 non-null int64\n",
      "genre          19900 non-null object\n",
      "description    19900 non-null object\n",
      "docs           19900 non-null object\n",
      "dtypes: int64(2), object(5)\n",
      "memory usage: 1.1+ MB\n"
     ]
    }
   ],
   "source": [
    "df.info()"
   ]
  },
  {
   "cell_type": "code",
   "execution_count": null,
   "metadata": {},
   "outputs": [],
   "source": []
  }
 ],
 "metadata": {
  "kernelspec": {
   "display_name": "Python 3",
   "language": "python",
   "name": "python3"
  },
  "language_info": {
   "codemirror_mode": {
    "name": "ipython",
    "version": 3
   },
   "file_extension": ".py",
   "mimetype": "text/x-python",
   "name": "python",
   "nbconvert_exporter": "python",
   "pygments_lexer": "ipython3",
   "version": "3.7.3"
  }
 },
 "nbformat": 4,
 "nbformat_minor": 2
}
