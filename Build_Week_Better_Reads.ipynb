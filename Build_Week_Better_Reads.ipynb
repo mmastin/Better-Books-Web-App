{
 "cells": [
  {
   "cell_type": "code",
   "execution_count": 1,
   "metadata": {},
   "outputs": [],
   "source": [
    "import pandas as pd"
   ]
  },
  {
   "cell_type": "code",
   "execution_count": 22,
   "metadata": {},
   "outputs": [],
   "source": [
    "df1 = pd.read_csv('/Users/mattmastin/Desktop/summary_scrapper/summary_25.csv', header=None)"
   ]
  },
  {
   "cell_type": "code",
   "execution_count": 24,
   "metadata": {},
   "outputs": [],
   "source": [
    "df2 = pd.read_csv('/Users/mattmastin/Desktop/summary_scrapper/summary_26.csv', header=None)\n",
    "df3 = pd.read_csv('/Users/mattmastin/Desktop/summary_scrapper/summary_27.csv', header=None)\n",
    "df4 = pd.read_csv('/Users/mattmastin/Desktop/summary_scrapper/summary_28.csv', header=None)"
   ]
  },
  {
   "cell_type": "code",
   "execution_count": 8,
   "metadata": {},
   "outputs": [
    {
     "name": "stderr",
     "output_type": "stream",
     "text": [
      "/Users/mattmastin/anaconda3/lib/python3.7/site-packages/ipykernel_launcher.py:1: FutureWarning: Sorting because non-concatenation axis is not aligned. A future version\n",
      "of pandas will change to not sort by default.\n",
      "\n",
      "To accept the future behavior, pass 'sort=False'.\n",
      "\n",
      "To retain the current behavior and silence the warning, pass 'sort=True'.\n",
      "\n",
      "  \"\"\"Entry point for launching an IPython kernel.\n"
     ]
    }
   ],
   "source": [
    "combined = pd.concat([df1, df2, df3, df4])"
   ]
  },
  {
   "cell_type": "code",
   "execution_count": 9,
   "metadata": {},
   "outputs": [
    {
     "data": {
      "text/plain": [
       "(11711, 5)"
      ]
     },
     "execution_count": 9,
     "metadata": {},
     "output_type": "execute_result"
    }
   ],
   "source": [
    "combined.shape"
   ]
  },
  {
   "cell_type": "code",
   "execution_count": 10,
   "metadata": {},
   "outputs": [
    {
     "data": {
      "text/html": [
       "<div>\n",
       "<style scoped>\n",
       "    .dataframe tbody tr th:only-of-type {\n",
       "        vertical-align: middle;\n",
       "    }\n",
       "\n",
       "    .dataframe tbody tr th {\n",
       "        vertical-align: top;\n",
       "    }\n",
       "\n",
       "    .dataframe thead th {\n",
       "        text-align: right;\n",
       "    }\n",
       "</style>\n",
       "<table border=\"1\" class=\"dataframe\">\n",
       "  <thead>\n",
       "    <tr style=\"text-align: right;\">\n",
       "      <th></th>\n",
       "      <th>\"The Story of the Stone (c. 1760)\", also known by the title of \"The Dream of the Red Chamber\", is the great novel of manners in Chinese literature. Divided into five volumes, of which \"The Warning Voice\" is the third, it charts the glory and decline of the illustrious Jia family (a story which closely accords with the fortunes of the author's own family). The two main characters, Bao-yu and Dai-yu, are set against a rich tapestry of humour, realistic detail and delicate poetry, which accurately reflects the ritualized hurly-burly of Chinese family life. But over and above the novel hangs the constant reminder that there is another plane of existence - a theme which affirms the Buddhist belief in a supernatural scheme of things.</th>\n",
       "      <th>0</th>\n",
       "      <th>From the erotic imagination of bestselling author Susan Johnson comes a tale of surprising sensuality, sweeping from English sitting rooms to North African markets, from the horse races to the Scottish Highlands. Sinjin St. John, Duke of Seth, charming rogue and bedder of beautiful women, was sure nothing could surprise him. That is until he stepped into his carriage one evening and found it already occupied with the most delectable visitor imaginable.Chelsea Fergusson is a proper young lady with an indecent plan to get out of an unwanted marriage, and she needs an immoral rogue to help her do it. Sinjin looks like he might be the perfect man for the job, but will Chelsea's beauty and spirit leave him wanting something more for the very first time?C.C. Gibbs was born and lives in the USA. She is the author of over 40 romance and erotica novels, including the recent bestsellers Knight’s Mistress and Knight’s Game. Many of her novels were originally published under the name Susan Johnson.\n",
       "This book is intended for mature audiences.</th>\n",
       "      <th>Jason Dessen is walking home through the chilly Chicago streets one night, looking forward to a quiet evening in front of the fireplace with his wife, Daniela, and their son, Charlie—when his reality shatters.It starts with a man in a mask kidnapping him at gunpoint, for reasons Jason can’t begin to fathom—what would anyone want with an ordinary physics professor?—and grows even more terrifying from there, as Jason’s abductor injects him with some unknown drug and watches while he loses consciousness.When Jason awakes, he’s in a lab, strapped to a gurney—and a man he’s never seen before is cheerily telling him “welcome back!”Jason soon learns that in this world he’s woken up to, his house is not his house. His wife is not his wife. His son was never born.And someone is hunting him.</th>\n",
       "      <th>Ships from USA. Will take 25-35 days</th>\n",
       "    </tr>\n",
       "  </thead>\n",
       "  <tbody>\n",
       "    <tr>\n",
       "      <th>0</th>\n",
       "      <td>NaN</td>\n",
       "      <td>1</td>\n",
       "      <td>NaN</td>\n",
       "      <td>از صفحه 543 تا 1113 شامل مجلد دوم شامل جلدهای ...</td>\n",
       "      <td>NaN</td>\n",
       "    </tr>\n",
       "    <tr>\n",
       "      <th>1</th>\n",
       "      <td>NaN</td>\n",
       "      <td>2</td>\n",
       "      <td>NaN</td>\n",
       "      <td>از صفحه 543 تا 1113 شامل مجلد دوم شامل جلدهای ...</td>\n",
       "      <td>NaN</td>\n",
       "    </tr>\n",
       "    <tr>\n",
       "      <th>2</th>\n",
       "      <td>NaN</td>\n",
       "      <td>3</td>\n",
       "      <td>NaN</td>\n",
       "      <td>From #1 New York Times bestselling author Bran...</td>\n",
       "      <td>NaN</td>\n",
       "    </tr>\n",
       "    <tr>\n",
       "      <th>3</th>\n",
       "      <td>NaN</td>\n",
       "      <td>4</td>\n",
       "      <td>NaN</td>\n",
       "      <td>Pilgrim's husband left her for another woman, ...</td>\n",
       "      <td>NaN</td>\n",
       "    </tr>\n",
       "    <tr>\n",
       "      <th>4</th>\n",
       "      <td>NaN</td>\n",
       "      <td>5</td>\n",
       "      <td>NaN</td>\n",
       "      <td>Librarian's Note: For alternate cover edition ...</td>\n",
       "      <td>NaN</td>\n",
       "    </tr>\n",
       "  </tbody>\n",
       "</table>\n",
       "</div>"
      ],
      "text/plain": [
       "  \"The Story of the Stone (c. 1760)\", also known by the title of \"The Dream of the Red Chamber\", is the great novel of manners in Chinese literature. Divided into five volumes, of which \"The Warning Voice\" is the third, it charts the glory and decline of the illustrious Jia family (a story which closely accords with the fortunes of the author's own family). The two main characters, Bao-yu and Dai-yu, are set against a rich tapestry of humour, realistic detail and delicate poetry, which accurately reflects the ritualized hurly-burly of Chinese family life. But over and above the novel hangs the constant reminder that there is another plane of existence - a theme which affirms the Buddhist belief in a supernatural scheme of things.  \\\n",
       "0                                                NaN                                                                                                                                                                                                                                                                                                                                                                                                                                                                                                                                                                                                                                                                                                                  \n",
       "1                                                NaN                                                                                                                                                                                                                                                                                                                                                                                                                                                                                                                                                                                                                                                                                                                  \n",
       "2                                                NaN                                                                                                                                                                                                                                                                                                                                                                                                                                                                                                                                                                                                                                                                                                                  \n",
       "3                                                NaN                                                                                                                                                                                                                                                                                                                                                                                                                                                                                                                                                                                                                                                                                                                  \n",
       "4                                                NaN                                                                                                                                                                                                                                                                                                                                                                                                                                                                                                                                                                                                                                                                                                                  \n",
       "\n",
       "   0  \\\n",
       "0  1   \n",
       "1  2   \n",
       "2  3   \n",
       "3  4   \n",
       "4  5   \n",
       "\n",
       "  From the erotic imagination of bestselling author Susan Johnson comes a tale of surprising sensuality, sweeping from English sitting rooms to North African markets, from the horse races to the Scottish Highlands. Sinjin St. John, Duke of Seth, charming rogue and bedder of beautiful women, was sure nothing could surprise him. That is until he stepped into his carriage one evening and found it already occupied with the most delectable visitor imaginable.Chelsea Fergusson is a proper young lady with an indecent plan to get out of an unwanted marriage, and she needs an immoral rogue to help her do it. Sinjin looks like he might be the perfect man for the job, but will Chelsea's beauty and spirit leave him wanting something more for the very first time?C.C. Gibbs was born and lives in the USA. She is the author of over 40 romance and erotica novels, including the recent bestsellers Knight’s Mistress and Knight’s Game. Many of her novels were originally published under the name Susan Johnson.\\nThis book is intended for mature audiences.\\n  \\\n",
       "0                                                NaN                                                                                                                                                                                                                                                                                                                                                                                                                                                                                                                                                                                                                                                                                                                                                                                                                                                                                                                                                                                                                                         \n",
       "1                                                NaN                                                                                                                                                                                                                                                                                                                                                                                                                                                                                                                                                                                                                                                                                                                                                                                                                                                                                                                                                                                                                                         \n",
       "2                                                NaN                                                                                                                                                                                                                                                                                                                                                                                                                                                                                                                                                                                                                                                                                                                                                                                                                                                                                                                                                                                                                                         \n",
       "3                                                NaN                                                                                                                                                                                                                                                                                                                                                                                                                                                                                                                                                                                                                                                                                                                                                                                                                                                                                                                                                                                                                                         \n",
       "4                                                NaN                                                                                                                                                                                                                                                                                                                                                                                                                                                                                                                                                                                                                                                                                                                                                                                                                                                                                                                                                                                                                                         \n",
       "\n",
       "  Jason Dessen is walking home through the chilly Chicago streets one night, looking forward to a quiet evening in front of the fireplace with his wife, Daniela, and their son, Charlie—when his reality shatters.It starts with a man in a mask kidnapping him at gunpoint, for reasons Jason can’t begin to fathom—what would anyone want with an ordinary physics professor?—and grows even more terrifying from there, as Jason’s abductor injects him with some unknown drug and watches while he loses consciousness.When Jason awakes, he’s in a lab, strapped to a gurney—and a man he’s never seen before is cheerily telling him “welcome back!”Jason soon learns that in this world he’s woken up to, his house is not his house. His wife is not his wife. His son was never born.And someone is hunting him.  \\\n",
       "0  از صفحه 543 تا 1113 شامل مجلد دوم شامل جلدهای ...                                                                                                                                                                                                                                                                                                                                                                                                                                                                                                                                                                                                                                                                                                                                                                         \n",
       "1  از صفحه 543 تا 1113 شامل مجلد دوم شامل جلدهای ...                                                                                                                                                                                                                                                                                                                                                                                                                                                                                                                                                                                                                                                                                                                                                                         \n",
       "2  From #1 New York Times bestselling author Bran...                                                                                                                                                                                                                                                                                                                                                                                                                                                                                                                                                                                                                                                                                                                                                                         \n",
       "3  Pilgrim's husband left her for another woman, ...                                                                                                                                                                                                                                                                                                                                                                                                                                                                                                                                                                                                                                                                                                                                                                         \n",
       "4  Librarian's Note: For alternate cover edition ...                                                                                                                                                                                                                                                                                                                                                                                                                                                                                                                                                                                                                                                                                                                                                                         \n",
       "\n",
       "  Ships from USA. Will take 25-35 days  \n",
       "0                                  NaN  \n",
       "1                                  NaN  \n",
       "2                                  NaN  \n",
       "3                                  NaN  \n",
       "4                                  NaN  "
      ]
     },
     "execution_count": 10,
     "metadata": {},
     "output_type": "execute_result"
    }
   ],
   "source": [
    "combined.head()"
   ]
  },
  {
   "cell_type": "code",
   "execution_count": 23,
   "metadata": {},
   "outputs": [
    {
     "data": {
      "text/html": [
       "<div>\n",
       "<style scoped>\n",
       "    .dataframe tbody tr th:only-of-type {\n",
       "        vertical-align: middle;\n",
       "    }\n",
       "\n",
       "    .dataframe tbody tr th {\n",
       "        vertical-align: top;\n",
       "    }\n",
       "\n",
       "    .dataframe thead th {\n",
       "        text-align: right;\n",
       "    }\n",
       "</style>\n",
       "<table border=\"1\" class=\"dataframe\">\n",
       "  <thead>\n",
       "    <tr style=\"text-align: right;\">\n",
       "      <th></th>\n",
       "      <th>0</th>\n",
       "      <th>1</th>\n",
       "    </tr>\n",
       "  </thead>\n",
       "  <tbody>\n",
       "    <tr>\n",
       "      <th>0</th>\n",
       "      <td>0</td>\n",
       "      <td>Jason Dessen is walking home through the chill...</td>\n",
       "    </tr>\n",
       "    <tr>\n",
       "      <th>1</th>\n",
       "      <td>1</td>\n",
       "      <td>از صفحه 543 تا 1113 شامل مجلد دوم شامل جلدهای ...</td>\n",
       "    </tr>\n",
       "    <tr>\n",
       "      <th>2</th>\n",
       "      <td>2</td>\n",
       "      <td>از صفحه 543 تا 1113 شامل مجلد دوم شامل جلدهای ...</td>\n",
       "    </tr>\n",
       "    <tr>\n",
       "      <th>3</th>\n",
       "      <td>3</td>\n",
       "      <td>From #1 New York Times bestselling author Bran...</td>\n",
       "    </tr>\n",
       "    <tr>\n",
       "      <th>4</th>\n",
       "      <td>4</td>\n",
       "      <td>Pilgrim's husband left her for another woman, ...</td>\n",
       "    </tr>\n",
       "  </tbody>\n",
       "</table>\n",
       "</div>"
      ],
      "text/plain": [
       "   0                                                  1\n",
       "0  0  Jason Dessen is walking home through the chill...\n",
       "1  1  از صفحه 543 تا 1113 شامل مجلد دوم شامل جلدهای ...\n",
       "2  2  از صفحه 543 تا 1113 شامل مجلد دوم شامل جلدهای ...\n",
       "3  3  From #1 New York Times bestselling author Bran...\n",
       "4  4  Pilgrim's husband left her for another woman, ..."
      ]
     },
     "execution_count": 23,
     "metadata": {},
     "output_type": "execute_result"
    }
   ],
   "source": [
    "df1.head()"
   ]
  },
  {
   "cell_type": "code",
   "execution_count": 12,
   "metadata": {},
   "outputs": [
    {
     "data": {
      "text/html": [
       "<div>\n",
       "<style scoped>\n",
       "    .dataframe tbody tr th:only-of-type {\n",
       "        vertical-align: middle;\n",
       "    }\n",
       "\n",
       "    .dataframe tbody tr th {\n",
       "        vertical-align: top;\n",
       "    }\n",
       "\n",
       "    .dataframe thead th {\n",
       "        text-align: right;\n",
       "    }\n",
       "</style>\n",
       "<table border=\"1\" class=\"dataframe\">\n",
       "  <thead>\n",
       "    <tr style=\"text-align: right;\">\n",
       "      <th></th>\n",
       "      <th>0</th>\n",
       "      <th>Ships from USA. Will take 25-35 days</th>\n",
       "    </tr>\n",
       "  </thead>\n",
       "  <tbody>\n",
       "    <tr>\n",
       "      <th>0</th>\n",
       "      <td>1</td>\n",
       "      <td>Ships from USA. Will take 25-35 days</td>\n",
       "    </tr>\n",
       "    <tr>\n",
       "      <th>1</th>\n",
       "      <td>2</td>\n",
       "      <td>A passionate portrait of love’s contradictory ...</td>\n",
       "    </tr>\n",
       "    <tr>\n",
       "      <th>2</th>\n",
       "      <td>3</td>\n",
       "      <td>\"LeBlanc's coming-of-age tale about a nervous ...</td>\n",
       "    </tr>\n",
       "    <tr>\n",
       "      <th>3</th>\n",
       "      <td>4</td>\n",
       "      <td>Things That Are Destroying Jane Greene’s Undea...</td>\n",
       "    </tr>\n",
       "    <tr>\n",
       "      <th>4</th>\n",
       "      <td>5</td>\n",
       "      <td>With echoes of\"The Night Circus,\" a spellbindi...</td>\n",
       "    </tr>\n",
       "  </tbody>\n",
       "</table>\n",
       "</div>"
      ],
      "text/plain": [
       "   0               Ships from USA. Will take 25-35 days\n",
       "0  1               Ships from USA. Will take 25-35 days\n",
       "1  2  A passionate portrait of love’s contradictory ...\n",
       "2  3  \"LeBlanc's coming-of-age tale about a nervous ...\n",
       "3  4  Things That Are Destroying Jane Greene’s Undea...\n",
       "4  5  With echoes of\"The Night Circus,\" a spellbindi..."
      ]
     },
     "execution_count": 12,
     "metadata": {},
     "output_type": "execute_result"
    }
   ],
   "source": [
    "df2.head()"
   ]
  },
  {
   "cell_type": "code",
   "execution_count": 13,
   "metadata": {},
   "outputs": [
    {
     "data": {
      "text/html": [
       "<div>\n",
       "<style scoped>\n",
       "    .dataframe tbody tr th:only-of-type {\n",
       "        vertical-align: middle;\n",
       "    }\n",
       "\n",
       "    .dataframe tbody tr th {\n",
       "        vertical-align: top;\n",
       "    }\n",
       "\n",
       "    .dataframe thead th {\n",
       "        text-align: right;\n",
       "    }\n",
       "</style>\n",
       "<table border=\"1\" class=\"dataframe\">\n",
       "  <thead>\n",
       "    <tr style=\"text-align: right;\">\n",
       "      <th></th>\n",
       "      <th>0</th>\n",
       "      <th>From the erotic imagination of bestselling author Susan Johnson comes a tale of surprising sensuality, sweeping from English sitting rooms to North African markets, from the horse races to the Scottish Highlands. Sinjin St. John, Duke of Seth, charming rogue and bedder of beautiful women, was sure nothing could surprise him. That is until he stepped into his carriage one evening and found it already occupied with the most delectable visitor imaginable.Chelsea Fergusson is a proper young lady with an indecent plan to get out of an unwanted marriage, and she needs an immoral rogue to help her do it. Sinjin looks like he might be the perfect man for the job, but will Chelsea's beauty and spirit leave him wanting something more for the very first time?C.C. Gibbs was born and lives in the USA. She is the author of over 40 romance and erotica novels, including the recent bestsellers Knight’s Mistress and Knight’s Game. Many of her novels were originally published under the name Susan Johnson.\n",
       "This book is intended for mature audiences.</th>\n",
       "    </tr>\n",
       "  </thead>\n",
       "  <tbody>\n",
       "    <tr>\n",
       "      <th>0</th>\n",
       "      <td>1</td>\n",
       "      <td>يعرض صوراً واقعية مشرقة من حياة مجموعة من أعلا...</td>\n",
       "    </tr>\n",
       "    <tr>\n",
       "      <th>1</th>\n",
       "      <td>2</td>\n",
       "      <td>When the Japanese bombed Pearl Harbour, the ti...</td>\n",
       "    </tr>\n",
       "    <tr>\n",
       "      <th>2</th>\n",
       "      <td>3</td>\n",
       "      <td>Xavier Ireland is a radio DJ who by night list...</td>\n",
       "    </tr>\n",
       "    <tr>\n",
       "      <th>3</th>\n",
       "      <td>4</td>\n",
       "      <td>Xavier Ireland is a radio DJ who by night list...</td>\n",
       "    </tr>\n",
       "    <tr>\n",
       "      <th>4</th>\n",
       "      <td>5</td>\n",
       "      <td>\"Ülkemiz insanlara maddesel zenginlikler sunma...</td>\n",
       "    </tr>\n",
       "  </tbody>\n",
       "</table>\n",
       "</div>"
      ],
      "text/plain": [
       "   0  \\\n",
       "0  1   \n",
       "1  2   \n",
       "2  3   \n",
       "3  4   \n",
       "4  5   \n",
       "\n",
       "  From the erotic imagination of bestselling author Susan Johnson comes a tale of surprising sensuality, sweeping from English sitting rooms to North African markets, from the horse races to the Scottish Highlands. Sinjin St. John, Duke of Seth, charming rogue and bedder of beautiful women, was sure nothing could surprise him. That is until he stepped into his carriage one evening and found it already occupied with the most delectable visitor imaginable.Chelsea Fergusson is a proper young lady with an indecent plan to get out of an unwanted marriage, and she needs an immoral rogue to help her do it. Sinjin looks like he might be the perfect man for the job, but will Chelsea's beauty and spirit leave him wanting something more for the very first time?C.C. Gibbs was born and lives in the USA. She is the author of over 40 romance and erotica novels, including the recent bestsellers Knight’s Mistress and Knight’s Game. Many of her novels were originally published under the name Susan Johnson.\\nThis book is intended for mature audiences.\\n  \n",
       "0  يعرض صوراً واقعية مشرقة من حياة مجموعة من أعلا...                                                                                                                                                                                                                                                                                                                                                                                                                                                                                                                                                                                                                                                                                                                                                                                                                                                                                                                                                                                                                                        \n",
       "1  When the Japanese bombed Pearl Harbour, the ti...                                                                                                                                                                                                                                                                                                                                                                                                                                                                                                                                                                                                                                                                                                                                                                                                                                                                                                                                                                                                                                        \n",
       "2  Xavier Ireland is a radio DJ who by night list...                                                                                                                                                                                                                                                                                                                                                                                                                                                                                                                                                                                                                                                                                                                                                                                                                                                                                                                                                                                                                                        \n",
       "3  Xavier Ireland is a radio DJ who by night list...                                                                                                                                                                                                                                                                                                                                                                                                                                                                                                                                                                                                                                                                                                                                                                                                                                                                                                                                                                                                                                        \n",
       "4  \"Ülkemiz insanlara maddesel zenginlikler sunma...                                                                                                                                                                                                                                                                                                                                                                                                                                                                                                                                                                                                                                                                                                                                                                                                                                                                                                                                                                                                                                        "
      ]
     },
     "execution_count": 13,
     "metadata": {},
     "output_type": "execute_result"
    }
   ],
   "source": [
    "df3.head()"
   ]
  },
  {
   "cell_type": "code",
   "execution_count": 14,
   "metadata": {},
   "outputs": [
    {
     "data": {
      "text/html": [
       "<div>\n",
       "<style scoped>\n",
       "    .dataframe tbody tr th:only-of-type {\n",
       "        vertical-align: middle;\n",
       "    }\n",
       "\n",
       "    .dataframe tbody tr th {\n",
       "        vertical-align: top;\n",
       "    }\n",
       "\n",
       "    .dataframe thead th {\n",
       "        text-align: right;\n",
       "    }\n",
       "</style>\n",
       "<table border=\"1\" class=\"dataframe\">\n",
       "  <thead>\n",
       "    <tr style=\"text-align: right;\">\n",
       "      <th></th>\n",
       "      <th>0</th>\n",
       "      <th>\"The Story of the Stone (c. 1760)\", also known by the title of \"The Dream of the Red Chamber\", is the great novel of manners in Chinese literature. Divided into five volumes, of which \"The Warning Voice\" is the third, it charts the glory and decline of the illustrious Jia family (a story which closely accords with the fortunes of the author's own family). The two main characters, Bao-yu and Dai-yu, are set against a rich tapestry of humour, realistic detail and delicate poetry, which accurately reflects the ritualized hurly-burly of Chinese family life. But over and above the novel hangs the constant reminder that there is another plane of existence - a theme which affirms the Buddhist belief in a supernatural scheme of things.</th>\n",
       "    </tr>\n",
       "  </thead>\n",
       "  <tbody>\n",
       "    <tr>\n",
       "      <th>0</th>\n",
       "      <td>1</td>\n",
       "      <td>First Person, Last Straw is a collection of ps...</td>\n",
       "    </tr>\n",
       "    <tr>\n",
       "      <th>1</th>\n",
       "      <td>2</td>\n",
       "      <td>From the New York Times bestselling author of ...</td>\n",
       "    </tr>\n",
       "    <tr>\n",
       "      <th>2</th>\n",
       "      <td>3</td>\n",
       "      <td>NaN</td>\n",
       "    </tr>\n",
       "    <tr>\n",
       "      <th>3</th>\n",
       "      <td>4</td>\n",
       "      <td>[&lt;span id=\"freeText4352389845062846699\" style=...</td>\n",
       "    </tr>\n",
       "    <tr>\n",
       "      <th>4</th>\n",
       "      <td>5</td>\n",
       "      <td>In The Wives of Bath, Susan Swan penetrates th...</td>\n",
       "    </tr>\n",
       "  </tbody>\n",
       "</table>\n",
       "</div>"
      ],
      "text/plain": [
       "   0  \\\n",
       "0  1   \n",
       "1  2   \n",
       "2  3   \n",
       "3  4   \n",
       "4  5   \n",
       "\n",
       "  \"The Story of the Stone (c. 1760)\", also known by the title of \"The Dream of the Red Chamber\", is the great novel of manners in Chinese literature. Divided into five volumes, of which \"The Warning Voice\" is the third, it charts the glory and decline of the illustrious Jia family (a story which closely accords with the fortunes of the author's own family). The two main characters, Bao-yu and Dai-yu, are set against a rich tapestry of humour, realistic detail and delicate poetry, which accurately reflects the ritualized hurly-burly of Chinese family life. But over and above the novel hangs the constant reminder that there is another plane of existence - a theme which affirms the Buddhist belief in a supernatural scheme of things.  \n",
       "0  First Person, Last Straw is a collection of ps...                                                                                                                                                                                                                                                                                                                                                                                                                                                                                                                                                                                                                                                                                                                 \n",
       "1  From the New York Times bestselling author of ...                                                                                                                                                                                                                                                                                                                                                                                                                                                                                                                                                                                                                                                                                                                 \n",
       "2                                                NaN                                                                                                                                                                                                                                                                                                                                                                                                                                                                                                                                                                                                                                                                                                                 \n",
       "3  [<span id=\"freeText4352389845062846699\" style=...                                                                                                                                                                                                                                                                                                                                                                                                                                                                                                                                                                                                                                                                                                                 \n",
       "4  In The Wives of Bath, Susan Swan penetrates th...                                                                                                                                                                                                                                                                                                                                                                                                                                                                                                                                                                                                                                                                                                                 "
      ]
     },
     "execution_count": 14,
     "metadata": {},
     "output_type": "execute_result"
    }
   ],
   "source": [
    "df4.head()"
   ]
  },
  {
   "cell_type": "code",
   "execution_count": 15,
   "metadata": {},
   "outputs": [
    {
     "name": "stderr",
     "output_type": "stream",
     "text": [
      "/Users/mattmastin/anaconda3/lib/python3.7/site-packages/pandas/core/frame.py:6211: FutureWarning: Sorting because non-concatenation axis is not aligned. A future version\n",
      "of pandas will change to not sort by default.\n",
      "\n",
      "To accept the future behavior, pass 'sort=False'.\n",
      "\n",
      "To retain the current behavior and silence the warning, pass 'sort=True'.\n",
      "\n",
      "  sort=sort)\n"
     ]
    }
   ],
   "source": [
    "combined = df1.append(df2)"
   ]
  },
  {
   "cell_type": "code",
   "execution_count": 16,
   "metadata": {},
   "outputs": [
    {
     "data": {
      "text/plain": [
       "(7631, 3)"
      ]
     },
     "execution_count": 16,
     "metadata": {},
     "output_type": "execute_result"
    }
   ],
   "source": [
    "combined.shape"
   ]
  },
  {
   "cell_type": "code",
   "execution_count": 17,
   "metadata": {},
   "outputs": [
    {
     "data": {
      "text/html": [
       "<div>\n",
       "<style scoped>\n",
       "    .dataframe tbody tr th:only-of-type {\n",
       "        vertical-align: middle;\n",
       "    }\n",
       "\n",
       "    .dataframe tbody tr th {\n",
       "        vertical-align: top;\n",
       "    }\n",
       "\n",
       "    .dataframe thead th {\n",
       "        text-align: right;\n",
       "    }\n",
       "</style>\n",
       "<table border=\"1\" class=\"dataframe\">\n",
       "  <thead>\n",
       "    <tr style=\"text-align: right;\">\n",
       "      <th></th>\n",
       "      <th>0</th>\n",
       "      <th>Jason Dessen is walking home through the chilly Chicago streets one night, looking forward to a quiet evening in front of the fireplace with his wife, Daniela, and their son, Charlie—when his reality shatters.It starts with a man in a mask kidnapping him at gunpoint, for reasons Jason can’t begin to fathom—what would anyone want with an ordinary physics professor?—and grows even more terrifying from there, as Jason’s abductor injects him with some unknown drug and watches while he loses consciousness.When Jason awakes, he’s in a lab, strapped to a gurney—and a man he’s never seen before is cheerily telling him “welcome back!”Jason soon learns that in this world he’s woken up to, his house is not his house. His wife is not his wife. His son was never born.And someone is hunting him.</th>\n",
       "      <th>Ships from USA. Will take 25-35 days</th>\n",
       "    </tr>\n",
       "  </thead>\n",
       "  <tbody>\n",
       "    <tr>\n",
       "      <th>0</th>\n",
       "      <td>1</td>\n",
       "      <td>از صفحه 543 تا 1113 شامل مجلد دوم شامل جلدهای ...</td>\n",
       "      <td>NaN</td>\n",
       "    </tr>\n",
       "    <tr>\n",
       "      <th>1</th>\n",
       "      <td>2</td>\n",
       "      <td>از صفحه 543 تا 1113 شامل مجلد دوم شامل جلدهای ...</td>\n",
       "      <td>NaN</td>\n",
       "    </tr>\n",
       "    <tr>\n",
       "      <th>2</th>\n",
       "      <td>3</td>\n",
       "      <td>From #1 New York Times bestselling author Bran...</td>\n",
       "      <td>NaN</td>\n",
       "    </tr>\n",
       "    <tr>\n",
       "      <th>3</th>\n",
       "      <td>4</td>\n",
       "      <td>Pilgrim's husband left her for another woman, ...</td>\n",
       "      <td>NaN</td>\n",
       "    </tr>\n",
       "    <tr>\n",
       "      <th>4</th>\n",
       "      <td>5</td>\n",
       "      <td>Librarian's Note: For alternate cover edition ...</td>\n",
       "      <td>NaN</td>\n",
       "    </tr>\n",
       "  </tbody>\n",
       "</table>\n",
       "</div>"
      ],
      "text/plain": [
       "   0  \\\n",
       "0  1   \n",
       "1  2   \n",
       "2  3   \n",
       "3  4   \n",
       "4  5   \n",
       "\n",
       "  Jason Dessen is walking home through the chilly Chicago streets one night, looking forward to a quiet evening in front of the fireplace with his wife, Daniela, and their son, Charlie—when his reality shatters.It starts with a man in a mask kidnapping him at gunpoint, for reasons Jason can’t begin to fathom—what would anyone want with an ordinary physics professor?—and grows even more terrifying from there, as Jason’s abductor injects him with some unknown drug and watches while he loses consciousness.When Jason awakes, he’s in a lab, strapped to a gurney—and a man he’s never seen before is cheerily telling him “welcome back!”Jason soon learns that in this world he’s woken up to, his house is not his house. His wife is not his wife. His son was never born.And someone is hunting him.  \\\n",
       "0  از صفحه 543 تا 1113 شامل مجلد دوم شامل جلدهای ...                                                                                                                                                                                                                                                                                                                                                                                                                                                                                                                                                                                                                                                                                                                                                                         \n",
       "1  از صفحه 543 تا 1113 شامل مجلد دوم شامل جلدهای ...                                                                                                                                                                                                                                                                                                                                                                                                                                                                                                                                                                                                                                                                                                                                                                         \n",
       "2  From #1 New York Times bestselling author Bran...                                                                                                                                                                                                                                                                                                                                                                                                                                                                                                                                                                                                                                                                                                                                                                         \n",
       "3  Pilgrim's husband left her for another woman, ...                                                                                                                                                                                                                                                                                                                                                                                                                                                                                                                                                                                                                                                                                                                                                                         \n",
       "4  Librarian's Note: For alternate cover edition ...                                                                                                                                                                                                                                                                                                                                                                                                                                                                                                                                                                                                                                                                                                                                                                         \n",
       "\n",
       "  Ships from USA. Will take 25-35 days  \n",
       "0                                  NaN  \n",
       "1                                  NaN  \n",
       "2                                  NaN  \n",
       "3                                  NaN  \n",
       "4                                  NaN  "
      ]
     },
     "execution_count": 17,
     "metadata": {},
     "output_type": "execute_result"
    }
   ],
   "source": [
    "combined.head()"
   ]
  },
  {
   "cell_type": "code",
   "execution_count": 25,
   "metadata": {},
   "outputs": [],
   "source": [
    "combined = pd.concat([df1, df2, df3, df4], ignore_index=True, sort=False)"
   ]
  },
  {
   "cell_type": "code",
   "execution_count": 26,
   "metadata": {},
   "outputs": [
    {
     "data": {
      "text/plain": [
       "(11715, 2)"
      ]
     },
     "execution_count": 26,
     "metadata": {},
     "output_type": "execute_result"
    }
   ],
   "source": [
    "combined.shape"
   ]
  },
  {
   "cell_type": "code",
   "execution_count": 27,
   "metadata": {},
   "outputs": [
    {
     "data": {
      "text/html": [
       "<div>\n",
       "<style scoped>\n",
       "    .dataframe tbody tr th:only-of-type {\n",
       "        vertical-align: middle;\n",
       "    }\n",
       "\n",
       "    .dataframe tbody tr th {\n",
       "        vertical-align: top;\n",
       "    }\n",
       "\n",
       "    .dataframe thead th {\n",
       "        text-align: right;\n",
       "    }\n",
       "</style>\n",
       "<table border=\"1\" class=\"dataframe\">\n",
       "  <thead>\n",
       "    <tr style=\"text-align: right;\">\n",
       "      <th></th>\n",
       "      <th>0</th>\n",
       "      <th>1</th>\n",
       "    </tr>\n",
       "  </thead>\n",
       "  <tbody>\n",
       "    <tr>\n",
       "      <th>0</th>\n",
       "      <td>0</td>\n",
       "      <td>Jason Dessen is walking home through the chill...</td>\n",
       "    </tr>\n",
       "    <tr>\n",
       "      <th>1</th>\n",
       "      <td>1</td>\n",
       "      <td>از صفحه 543 تا 1113 شامل مجلد دوم شامل جلدهای ...</td>\n",
       "    </tr>\n",
       "    <tr>\n",
       "      <th>2</th>\n",
       "      <td>2</td>\n",
       "      <td>از صفحه 543 تا 1113 شامل مجلد دوم شامل جلدهای ...</td>\n",
       "    </tr>\n",
       "    <tr>\n",
       "      <th>3</th>\n",
       "      <td>3</td>\n",
       "      <td>From #1 New York Times bestselling author Bran...</td>\n",
       "    </tr>\n",
       "    <tr>\n",
       "      <th>4</th>\n",
       "      <td>4</td>\n",
       "      <td>Pilgrim's husband left her for another woman, ...</td>\n",
       "    </tr>\n",
       "  </tbody>\n",
       "</table>\n",
       "</div>"
      ],
      "text/plain": [
       "   0                                                  1\n",
       "0  0  Jason Dessen is walking home through the chill...\n",
       "1  1  از صفحه 543 تا 1113 شامل مجلد دوم شامل جلدهای ...\n",
       "2  2  از صفحه 543 تا 1113 شامل مجلد دوم شامل جلدهای ...\n",
       "3  3  From #1 New York Times bestselling author Bran...\n",
       "4  4  Pilgrim's husband left her for another woman, ..."
      ]
     },
     "execution_count": 27,
     "metadata": {},
     "output_type": "execute_result"
    }
   ],
   "source": [
    "combined.head()"
   ]
  },
  {
   "cell_type": "code",
   "execution_count": 28,
   "metadata": {},
   "outputs": [],
   "source": [
    "combined.to_csv('best_books_summary_20k_30k.csv', index=False)"
   ]
  },
  {
   "cell_type": "code",
   "execution_count": 1,
   "metadata": {},
   "outputs": [],
   "source": [
    "import pandas as pd"
   ]
  },
  {
   "cell_type": "code",
   "execution_count": 5,
   "metadata": {},
   "outputs": [],
   "source": [
    "df = pd.read_csv('/Users/mattmastin/Desktop/summary_scrapper/summary_31.csv')"
   ]
  },
  {
   "cell_type": "code",
   "execution_count": 6,
   "metadata": {},
   "outputs": [
    {
     "name": "stdout",
     "output_type": "stream",
     "text": [
      "(2500, 3)\n"
     ]
    },
    {
     "data": {
      "text/html": [
       "<div>\n",
       "<style scoped>\n",
       "    .dataframe tbody tr th:only-of-type {\n",
       "        vertical-align: middle;\n",
       "    }\n",
       "\n",
       "    .dataframe tbody tr th {\n",
       "        vertical-align: top;\n",
       "    }\n",
       "\n",
       "    .dataframe thead th {\n",
       "        text-align: right;\n",
       "    }\n",
       "</style>\n",
       "<table border=\"1\" class=\"dataframe\">\n",
       "  <thead>\n",
       "    <tr style=\"text-align: right;\">\n",
       "      <th></th>\n",
       "      <th>Unnamed: 0</th>\n",
       "      <th>book_title</th>\n",
       "      <th>description</th>\n",
       "    </tr>\n",
       "  </thead>\n",
       "  <tbody>\n",
       "    <tr>\n",
       "      <th>0</th>\n",
       "      <td>0</td>\n",
       "      <td>Dark Matter</td>\n",
       "      <td>Jason Dessen is walking home through the chill...</td>\n",
       "    </tr>\n",
       "    <tr>\n",
       "      <th>1</th>\n",
       "      <td>1</td>\n",
       "      <td>مثنوی معنوی جلد دوم: بر اساس نسخه قونیه</td>\n",
       "      <td>از صفحه 543 تا 1113 شامل مجلد دوم شامل جلدهای ...</td>\n",
       "    </tr>\n",
       "    <tr>\n",
       "      <th>2</th>\n",
       "      <td>2</td>\n",
       "      <td>The Way of Kings</td>\n",
       "      <td>From #1 New York Times bestselling author Bran...</td>\n",
       "    </tr>\n",
       "    <tr>\n",
       "      <th>3</th>\n",
       "      <td>3</td>\n",
       "      <td>The Gloaming</td>\n",
       "      <td>Pilgrim's husband left her for another woman, ...</td>\n",
       "    </tr>\n",
       "    <tr>\n",
       "      <th>4</th>\n",
       "      <td>4</td>\n",
       "      <td>Small Gods</td>\n",
       "      <td>Librarian's Note: For alternate cover edition ...</td>\n",
       "    </tr>\n",
       "  </tbody>\n",
       "</table>\n",
       "</div>"
      ],
      "text/plain": [
       "   Unnamed: 0                               book_title  \\\n",
       "0           0                              Dark Matter   \n",
       "1           1  مثنوی معنوی جلد دوم: بر اساس نسخه قونیه   \n",
       "2           2                         The Way of Kings   \n",
       "3           3                             The Gloaming   \n",
       "4           4                               Small Gods   \n",
       "\n",
       "                                         description  \n",
       "0  Jason Dessen is walking home through the chill...  \n",
       "1  از صفحه 543 تا 1113 شامل مجلد دوم شامل جلدهای ...  \n",
       "2  From #1 New York Times bestselling author Bran...  \n",
       "3  Pilgrim's husband left her for another woman, ...  \n",
       "4  Librarian's Note: For alternate cover edition ...  "
      ]
     },
     "execution_count": 6,
     "metadata": {},
     "output_type": "execute_result"
    }
   ],
   "source": [
    "print(df.shape)\n",
    "df.head()"
   ]
  },
  {
   "cell_type": "code",
   "execution_count": 7,
   "metadata": {},
   "outputs": [],
   "source": [
    "df2 = pd.read_csv('/Users/mattmastin/Desktop/summary_scrapper/summary_32.csv')\n",
    "df3 = pd.read_csv('/Users/mattmastin/Desktop/summary_scrapper/summary_33.csv')\n",
    "df4 = pd.read_csv('/Users/mattmastin/Desktop/summary_scrapper/summary_34.csv')"
   ]
  },
  {
   "cell_type": "code",
   "execution_count": 8,
   "metadata": {},
   "outputs": [],
   "source": [
    "combined2 = pd.concat([df, df2, df3, df4], ignore_index=True, sort=False)"
   ]
  },
  {
   "cell_type": "code",
   "execution_count": 9,
   "metadata": {},
   "outputs": [
    {
     "data": {
      "text/plain": [
       "(10001, 3)"
      ]
     },
     "execution_count": 9,
     "metadata": {},
     "output_type": "execute_result"
    }
   ],
   "source": [
    "combined2.shape"
   ]
  },
  {
   "cell_type": "code",
   "execution_count": 10,
   "metadata": {},
   "outputs": [
    {
     "data": {
      "text/html": [
       "<div>\n",
       "<style scoped>\n",
       "    .dataframe tbody tr th:only-of-type {\n",
       "        vertical-align: middle;\n",
       "    }\n",
       "\n",
       "    .dataframe tbody tr th {\n",
       "        vertical-align: top;\n",
       "    }\n",
       "\n",
       "    .dataframe thead th {\n",
       "        text-align: right;\n",
       "    }\n",
       "</style>\n",
       "<table border=\"1\" class=\"dataframe\">\n",
       "  <thead>\n",
       "    <tr style=\"text-align: right;\">\n",
       "      <th></th>\n",
       "      <th>Unnamed: 0</th>\n",
       "      <th>book_title</th>\n",
       "      <th>description</th>\n",
       "    </tr>\n",
       "  </thead>\n",
       "  <tbody>\n",
       "    <tr>\n",
       "      <th>0</th>\n",
       "      <td>0</td>\n",
       "      <td>Dark Matter</td>\n",
       "      <td>Jason Dessen is walking home through the chill...</td>\n",
       "    </tr>\n",
       "    <tr>\n",
       "      <th>1</th>\n",
       "      <td>1</td>\n",
       "      <td>مثنوی معنوی جلد دوم: بر اساس نسخه قونیه</td>\n",
       "      <td>از صفحه 543 تا 1113 شامل مجلد دوم شامل جلدهای ...</td>\n",
       "    </tr>\n",
       "    <tr>\n",
       "      <th>2</th>\n",
       "      <td>2</td>\n",
       "      <td>The Way of Kings</td>\n",
       "      <td>From #1 New York Times bestselling author Bran...</td>\n",
       "    </tr>\n",
       "    <tr>\n",
       "      <th>3</th>\n",
       "      <td>3</td>\n",
       "      <td>The Gloaming</td>\n",
       "      <td>Pilgrim's husband left her for another woman, ...</td>\n",
       "    </tr>\n",
       "    <tr>\n",
       "      <th>4</th>\n",
       "      <td>4</td>\n",
       "      <td>Small Gods</td>\n",
       "      <td>Librarian's Note: For alternate cover edition ...</td>\n",
       "    </tr>\n",
       "  </tbody>\n",
       "</table>\n",
       "</div>"
      ],
      "text/plain": [
       "   Unnamed: 0                               book_title  \\\n",
       "0           0                              Dark Matter   \n",
       "1           1  مثنوی معنوی جلد دوم: بر اساس نسخه قونیه   \n",
       "2           2                         The Way of Kings   \n",
       "3           3                             The Gloaming   \n",
       "4           4                               Small Gods   \n",
       "\n",
       "                                         description  \n",
       "0  Jason Dessen is walking home through the chill...  \n",
       "1  از صفحه 543 تا 1113 شامل مجلد دوم شامل جلدهای ...  \n",
       "2  From #1 New York Times bestselling author Bran...  \n",
       "3  Pilgrim's husband left her for another woman, ...  \n",
       "4  Librarian's Note: For alternate cover edition ...  "
      ]
     },
     "execution_count": 10,
     "metadata": {},
     "output_type": "execute_result"
    }
   ],
   "source": [
    "combined2.head()"
   ]
  },
  {
   "cell_type": "code",
   "execution_count": 11,
   "metadata": {},
   "outputs": [],
   "source": [
    "combined2.to_csv('best_books_title_and_description_20k_30k.csv', index=False)"
   ]
  },
  {
   "cell_type": "code",
   "execution_count": 12,
   "metadata": {},
   "outputs": [],
   "source": [
    "combined3 = pd.concat([df, df2, df3, df4])"
   ]
  },
  {
   "cell_type": "code",
   "execution_count": 13,
   "metadata": {},
   "outputs": [
    {
     "data": {
      "text/plain": [
       "(10001, 3)"
      ]
     },
     "execution_count": 13,
     "metadata": {},
     "output_type": "execute_result"
    }
   ],
   "source": [
    "combined3.shape"
   ]
  },
  {
   "cell_type": "code",
   "execution_count": 14,
   "metadata": {},
   "outputs": [
    {
     "data": {
      "text/html": [
       "<div>\n",
       "<style scoped>\n",
       "    .dataframe tbody tr th:only-of-type {\n",
       "        vertical-align: middle;\n",
       "    }\n",
       "\n",
       "    .dataframe tbody tr th {\n",
       "        vertical-align: top;\n",
       "    }\n",
       "\n",
       "    .dataframe thead th {\n",
       "        text-align: right;\n",
       "    }\n",
       "</style>\n",
       "<table border=\"1\" class=\"dataframe\">\n",
       "  <thead>\n",
       "    <tr style=\"text-align: right;\">\n",
       "      <th></th>\n",
       "      <th>Unnamed: 0</th>\n",
       "      <th>book_title</th>\n",
       "      <th>description</th>\n",
       "    </tr>\n",
       "  </thead>\n",
       "  <tbody>\n",
       "    <tr>\n",
       "      <th>0</th>\n",
       "      <td>0</td>\n",
       "      <td>Dark Matter</td>\n",
       "      <td>Jason Dessen is walking home through the chill...</td>\n",
       "    </tr>\n",
       "    <tr>\n",
       "      <th>1</th>\n",
       "      <td>1</td>\n",
       "      <td>مثنوی معنوی جلد دوم: بر اساس نسخه قونیه</td>\n",
       "      <td>از صفحه 543 تا 1113 شامل مجلد دوم شامل جلدهای ...</td>\n",
       "    </tr>\n",
       "    <tr>\n",
       "      <th>2</th>\n",
       "      <td>2</td>\n",
       "      <td>The Way of Kings</td>\n",
       "      <td>From #1 New York Times bestselling author Bran...</td>\n",
       "    </tr>\n",
       "    <tr>\n",
       "      <th>3</th>\n",
       "      <td>3</td>\n",
       "      <td>The Gloaming</td>\n",
       "      <td>Pilgrim's husband left her for another woman, ...</td>\n",
       "    </tr>\n",
       "    <tr>\n",
       "      <th>4</th>\n",
       "      <td>4</td>\n",
       "      <td>Small Gods</td>\n",
       "      <td>Librarian's Note: For alternate cover edition ...</td>\n",
       "    </tr>\n",
       "  </tbody>\n",
       "</table>\n",
       "</div>"
      ],
      "text/plain": [
       "   Unnamed: 0                               book_title  \\\n",
       "0           0                              Dark Matter   \n",
       "1           1  مثنوی معنوی جلد دوم: بر اساس نسخه قونیه   \n",
       "2           2                         The Way of Kings   \n",
       "3           3                             The Gloaming   \n",
       "4           4                               Small Gods   \n",
       "\n",
       "                                         description  \n",
       "0  Jason Dessen is walking home through the chill...  \n",
       "1  از صفحه 543 تا 1113 شامل مجلد دوم شامل جلدهای ...  \n",
       "2  From #1 New York Times bestselling author Bran...  \n",
       "3  Pilgrim's husband left her for another woman, ...  \n",
       "4  Librarian's Note: For alternate cover edition ...  "
      ]
     },
     "execution_count": 14,
     "metadata": {},
     "output_type": "execute_result"
    }
   ],
   "source": [
    "combined3.head()"
   ]
  },
  {
   "cell_type": "code",
   "execution_count": 15,
   "metadata": {},
   "outputs": [],
   "source": [
    "combined3.to_csv('books_title_and_description_20k_30k.csv')"
   ]
  },
  {
   "cell_type": "code",
   "execution_count": 16,
   "metadata": {},
   "outputs": [],
   "source": [
    "df = pd.read_csv('/Users/mattmastin/Desktop/summary_scrapper/more_detail_genre1.csv')"
   ]
  },
  {
   "cell_type": "code",
   "execution_count": 34,
   "metadata": {},
   "outputs": [],
   "source": [
    "df2 = pd.read_csv('/Users/mattmastin/Desktop/summary_scrapper/more_detail_genre2.csv')\n",
    "df3 = pd.read_csv('/Users/mattmastin/Desktop/summary_scrapper/more_detail_genre6.csv')\n",
    "df4 = pd.read_csv('/Users/mattmastin/Desktop/summary_scrapper/more_detail_genre4.csv')\n",
    "df5 = pd.read_csv('/Users/mattmastin/Desktop/summary_scrapper/more_detail_genre5.csv')"
   ]
  },
  {
   "cell_type": "code",
   "execution_count": 35,
   "metadata": {},
   "outputs": [
    {
     "name": "stdout",
     "output_type": "stream",
     "text": [
      "(2000, 9)\n"
     ]
    },
    {
     "data": {
      "text/html": [
       "<div>\n",
       "<style scoped>\n",
       "    .dataframe tbody tr th:only-of-type {\n",
       "        vertical-align: middle;\n",
       "    }\n",
       "\n",
       "    .dataframe tbody tr th {\n",
       "        vertical-align: top;\n",
       "    }\n",
       "\n",
       "    .dataframe thead th {\n",
       "        text-align: right;\n",
       "    }\n",
       "</style>\n",
       "<table border=\"1\" class=\"dataframe\">\n",
       "  <thead>\n",
       "    <tr style=\"text-align: right;\">\n",
       "      <th></th>\n",
       "      <th>Unnamed: 0</th>\n",
       "      <th>Original Title</th>\n",
       "      <th>ISBN</th>\n",
       "      <th>Edition Language</th>\n",
       "      <th>Series</th>\n",
       "      <th>Characters</th>\n",
       "      <th>setting</th>\n",
       "      <th>Literary Awards</th>\n",
       "      <th>Genre</th>\n",
       "    </tr>\n",
       "  </thead>\n",
       "  <tbody>\n",
       "    <tr>\n",
       "      <th>0</th>\n",
       "      <td>0</td>\n",
       "      <td>Dark Matter</td>\n",
       "      <td>NaN</td>\n",
       "      <td>English</td>\n",
       "      <td>NaN</td>\n",
       "      <td>Jason Dessen, Daniela Vargas Dessen, Amanda Lu...</td>\n",
       "      <td>Chicago, Illinois (United States)  Illinois (U...</td>\n",
       "      <td>Goodreads Choice Award Nominee for Science Fic...</td>\n",
       "      <td>['Science Fiction', 'Fiction', 'Thriller', 'My...</td>\n",
       "    </tr>\n",
       "    <tr>\n",
       "      <th>1</th>\n",
       "      <td>1</td>\n",
       "      <td>The Mathnawi of Jalalu'ddin Rumi, Volume II</td>\n",
       "      <td>NaN</td>\n",
       "      <td>Persian</td>\n",
       "      <td>Masnavi Manavi #2</td>\n",
       "      <td>NaN</td>\n",
       "      <td>NaN</td>\n",
       "      <td>NaN</td>\n",
       "      <td>['Poetry', 'Philosophy', 'Classics', 'Literatu...</td>\n",
       "    </tr>\n",
       "    <tr>\n",
       "      <th>2</th>\n",
       "      <td>2</td>\n",
       "      <td>The Way of Kings</td>\n",
       "      <td>NaN</td>\n",
       "      <td>English</td>\n",
       "      <td>The Stormlight Archive #1, The Cosmere</td>\n",
       "      <td>Kaladin Stormblessed, Dalinar Kholin, Shallan ...</td>\n",
       "      <td>Roshar</td>\n",
       "      <td>Locus Award Nominee for Best Fantasy Novel (20...</td>\n",
       "      <td>['Fantasy', 'Fiction', 'Fantasy', 'Epic Fantas...</td>\n",
       "    </tr>\n",
       "    <tr>\n",
       "      <th>3</th>\n",
       "      <td>3</td>\n",
       "      <td>NaN</td>\n",
       "      <td>1937512479            (ISBN13: 9781937512477)</td>\n",
       "      <td>English</td>\n",
       "      <td>NaN</td>\n",
       "      <td>NaN</td>\n",
       "      <td>NaN</td>\n",
       "      <td>NaN</td>\n",
       "      <td>['Fiction', 'Cultural', 'Africa', 'Novels', 'C...</td>\n",
       "    </tr>\n",
       "    <tr>\n",
       "      <th>4</th>\n",
       "      <td>4</td>\n",
       "      <td>Small Gods</td>\n",
       "      <td>0061092177            (ISBN13: 9780061092176)</td>\n",
       "      <td>English</td>\n",
       "      <td>Discworld #13</td>\n",
       "      <td>The Librarian, Great God Om, Brutha, Exquisito...</td>\n",
       "      <td>Discworld Omnia Ephebe</td>\n",
       "      <td>NaN</td>\n",
       "      <td>['Fiction', 'Humor', 'Fantasy', 'Humor', 'Come...</td>\n",
       "    </tr>\n",
       "  </tbody>\n",
       "</table>\n",
       "</div>"
      ],
      "text/plain": [
       "   Unnamed: 0                               Original Title  \\\n",
       "0           0                                  Dark Matter   \n",
       "1           1  The Mathnawi of Jalalu'ddin Rumi, Volume II   \n",
       "2           2                             The Way of Kings   \n",
       "3           3                                          NaN   \n",
       "4           4                                   Small Gods   \n",
       "\n",
       "                                            ISBN Edition Language  \\\n",
       "0                                            NaN          English   \n",
       "1                                            NaN          Persian   \n",
       "2                                            NaN          English   \n",
       "3  1937512479            (ISBN13: 9781937512477)          English   \n",
       "4  0061092177            (ISBN13: 9780061092176)          English   \n",
       "\n",
       "                                   Series  \\\n",
       "0                                     NaN   \n",
       "1                       Masnavi Manavi #2   \n",
       "2  The Stormlight Archive #1, The Cosmere   \n",
       "3                                     NaN   \n",
       "4                           Discworld #13   \n",
       "\n",
       "                                          Characters  \\\n",
       "0  Jason Dessen, Daniela Vargas Dessen, Amanda Lu...   \n",
       "1                                                NaN   \n",
       "2  Kaladin Stormblessed, Dalinar Kholin, Shallan ...   \n",
       "3                                                NaN   \n",
       "4  The Librarian, Great God Om, Brutha, Exquisito...   \n",
       "\n",
       "                                             setting  \\\n",
       "0  Chicago, Illinois (United States)  Illinois (U...   \n",
       "1                                                NaN   \n",
       "2                                             Roshar   \n",
       "3                                                NaN   \n",
       "4                             Discworld Omnia Ephebe   \n",
       "\n",
       "                                     Literary Awards  \\\n",
       "0  Goodreads Choice Award Nominee for Science Fic...   \n",
       "1                                                NaN   \n",
       "2  Locus Award Nominee for Best Fantasy Novel (20...   \n",
       "3                                                NaN   \n",
       "4                                                NaN   \n",
       "\n",
       "                                               Genre  \n",
       "0  ['Science Fiction', 'Fiction', 'Thriller', 'My...  \n",
       "1  ['Poetry', 'Philosophy', 'Classics', 'Literatu...  \n",
       "2  ['Fantasy', 'Fiction', 'Fantasy', 'Epic Fantas...  \n",
       "3  ['Fiction', 'Cultural', 'Africa', 'Novels', 'C...  \n",
       "4  ['Fiction', 'Humor', 'Fantasy', 'Humor', 'Come...  "
      ]
     },
     "execution_count": 35,
     "metadata": {},
     "output_type": "execute_result"
    }
   ],
   "source": [
    "print(df.shape)\n",
    "df.head()"
   ]
  },
  {
   "cell_type": "code",
   "execution_count": 36,
   "metadata": {},
   "outputs": [],
   "source": [
    "combined4 = pd.concat([df, df2, df3, df4, df5])"
   ]
  },
  {
   "cell_type": "code",
   "execution_count": 37,
   "metadata": {},
   "outputs": [
    {
     "name": "stdout",
     "output_type": "stream",
     "text": [
      "(10001, 9)\n"
     ]
    },
    {
     "data": {
      "text/html": [
       "<div>\n",
       "<style scoped>\n",
       "    .dataframe tbody tr th:only-of-type {\n",
       "        vertical-align: middle;\n",
       "    }\n",
       "\n",
       "    .dataframe tbody tr th {\n",
       "        vertical-align: top;\n",
       "    }\n",
       "\n",
       "    .dataframe thead th {\n",
       "        text-align: right;\n",
       "    }\n",
       "</style>\n",
       "<table border=\"1\" class=\"dataframe\">\n",
       "  <thead>\n",
       "    <tr style=\"text-align: right;\">\n",
       "      <th></th>\n",
       "      <th>Unnamed: 0</th>\n",
       "      <th>Original Title</th>\n",
       "      <th>ISBN</th>\n",
       "      <th>Edition Language</th>\n",
       "      <th>Series</th>\n",
       "      <th>Characters</th>\n",
       "      <th>setting</th>\n",
       "      <th>Literary Awards</th>\n",
       "      <th>Genre</th>\n",
       "    </tr>\n",
       "  </thead>\n",
       "  <tbody>\n",
       "    <tr>\n",
       "      <th>0</th>\n",
       "      <td>0</td>\n",
       "      <td>Dark Matter</td>\n",
       "      <td>NaN</td>\n",
       "      <td>English</td>\n",
       "      <td>NaN</td>\n",
       "      <td>Jason Dessen, Daniela Vargas Dessen, Amanda Lu...</td>\n",
       "      <td>Chicago, Illinois (United States)  Illinois (U...</td>\n",
       "      <td>Goodreads Choice Award Nominee for Science Fic...</td>\n",
       "      <td>['Science Fiction', 'Fiction', 'Thriller', 'My...</td>\n",
       "    </tr>\n",
       "    <tr>\n",
       "      <th>1</th>\n",
       "      <td>1</td>\n",
       "      <td>The Mathnawi of Jalalu'ddin Rumi, Volume II</td>\n",
       "      <td>NaN</td>\n",
       "      <td>Persian</td>\n",
       "      <td>Masnavi Manavi #2</td>\n",
       "      <td>NaN</td>\n",
       "      <td>NaN</td>\n",
       "      <td>NaN</td>\n",
       "      <td>['Poetry', 'Philosophy', 'Classics', 'Literatu...</td>\n",
       "    </tr>\n",
       "    <tr>\n",
       "      <th>2</th>\n",
       "      <td>2</td>\n",
       "      <td>The Way of Kings</td>\n",
       "      <td>NaN</td>\n",
       "      <td>English</td>\n",
       "      <td>The Stormlight Archive #1, The Cosmere</td>\n",
       "      <td>Kaladin Stormblessed, Dalinar Kholin, Shallan ...</td>\n",
       "      <td>Roshar</td>\n",
       "      <td>Locus Award Nominee for Best Fantasy Novel (20...</td>\n",
       "      <td>['Fantasy', 'Fiction', 'Fantasy', 'Epic Fantas...</td>\n",
       "    </tr>\n",
       "    <tr>\n",
       "      <th>3</th>\n",
       "      <td>3</td>\n",
       "      <td>NaN</td>\n",
       "      <td>1937512479            (ISBN13: 9781937512477)</td>\n",
       "      <td>English</td>\n",
       "      <td>NaN</td>\n",
       "      <td>NaN</td>\n",
       "      <td>NaN</td>\n",
       "      <td>NaN</td>\n",
       "      <td>['Fiction', 'Cultural', 'Africa', 'Novels', 'C...</td>\n",
       "    </tr>\n",
       "    <tr>\n",
       "      <th>4</th>\n",
       "      <td>4</td>\n",
       "      <td>Small Gods</td>\n",
       "      <td>0061092177            (ISBN13: 9780061092176)</td>\n",
       "      <td>English</td>\n",
       "      <td>Discworld #13</td>\n",
       "      <td>The Librarian, Great God Om, Brutha, Exquisito...</td>\n",
       "      <td>Discworld Omnia Ephebe</td>\n",
       "      <td>NaN</td>\n",
       "      <td>['Fiction', 'Humor', 'Fantasy', 'Humor', 'Come...</td>\n",
       "    </tr>\n",
       "  </tbody>\n",
       "</table>\n",
       "</div>"
      ],
      "text/plain": [
       "   Unnamed: 0                               Original Title  \\\n",
       "0           0                                  Dark Matter   \n",
       "1           1  The Mathnawi of Jalalu'ddin Rumi, Volume II   \n",
       "2           2                             The Way of Kings   \n",
       "3           3                                          NaN   \n",
       "4           4                                   Small Gods   \n",
       "\n",
       "                                            ISBN Edition Language  \\\n",
       "0                                            NaN          English   \n",
       "1                                            NaN          Persian   \n",
       "2                                            NaN          English   \n",
       "3  1937512479            (ISBN13: 9781937512477)          English   \n",
       "4  0061092177            (ISBN13: 9780061092176)          English   \n",
       "\n",
       "                                   Series  \\\n",
       "0                                     NaN   \n",
       "1                       Masnavi Manavi #2   \n",
       "2  The Stormlight Archive #1, The Cosmere   \n",
       "3                                     NaN   \n",
       "4                           Discworld #13   \n",
       "\n",
       "                                          Characters  \\\n",
       "0  Jason Dessen, Daniela Vargas Dessen, Amanda Lu...   \n",
       "1                                                NaN   \n",
       "2  Kaladin Stormblessed, Dalinar Kholin, Shallan ...   \n",
       "3                                                NaN   \n",
       "4  The Librarian, Great God Om, Brutha, Exquisito...   \n",
       "\n",
       "                                             setting  \\\n",
       "0  Chicago, Illinois (United States)  Illinois (U...   \n",
       "1                                                NaN   \n",
       "2                                             Roshar   \n",
       "3                                                NaN   \n",
       "4                             Discworld Omnia Ephebe   \n",
       "\n",
       "                                     Literary Awards  \\\n",
       "0  Goodreads Choice Award Nominee for Science Fic...   \n",
       "1                                                NaN   \n",
       "2  Locus Award Nominee for Best Fantasy Novel (20...   \n",
       "3                                                NaN   \n",
       "4                                                NaN   \n",
       "\n",
       "                                               Genre  \n",
       "0  ['Science Fiction', 'Fiction', 'Thriller', 'My...  \n",
       "1  ['Poetry', 'Philosophy', 'Classics', 'Literatu...  \n",
       "2  ['Fantasy', 'Fiction', 'Fantasy', 'Epic Fantas...  \n",
       "3  ['Fiction', 'Cultural', 'Africa', 'Novels', 'C...  \n",
       "4  ['Fiction', 'Humor', 'Fantasy', 'Humor', 'Come...  "
      ]
     },
     "execution_count": 37,
     "metadata": {},
     "output_type": "execute_result"
    }
   ],
   "source": [
    "print(combined4.shape)\n",
    "combined4.head()"
   ]
  },
  {
   "cell_type": "code",
   "execution_count": 39,
   "metadata": {},
   "outputs": [],
   "source": [
    "combined4.to_csv('more_detail_genre_20k_30k_v2.csv')"
   ]
  },
  {
   "cell_type": "code",
   "execution_count": 54,
   "metadata": {},
   "outputs": [],
   "source": [
    "dustin2 = pd.read_csv('/Users/mattmastin/Desktop/more_detail and genres 0k to 10k.csv')"
   ]
  },
  {
   "cell_type": "code",
   "execution_count": 55,
   "metadata": {},
   "outputs": [
    {
     "data": {
      "text/plain": [
       "(10000, 10)"
      ]
     },
     "execution_count": 55,
     "metadata": {},
     "output_type": "execute_result"
    }
   ],
   "source": [
    "dustin2.shape"
   ]
  },
  {
   "cell_type": "code",
   "execution_count": 56,
   "metadata": {},
   "outputs": [
    {
     "data": {
      "text/plain": [
       "Unnamed: 0             0\n",
       "Unnamed: 0.1           0\n",
       "Original Title       994\n",
       "ISBN                1272\n",
       "Edition Language     249\n",
       "Series              4699\n",
       "Characters          4317\n",
       "setting             5576\n",
       "Literary Awards     6044\n",
       "Genre                  0\n",
       "dtype: int64"
      ]
     },
     "execution_count": 56,
     "metadata": {},
     "output_type": "execute_result"
    }
   ],
   "source": [
    "dustin2.isnull().sum()"
   ]
  },
  {
   "cell_type": "code",
   "execution_count": 24,
   "metadata": {},
   "outputs": [
    {
     "data": {
      "text/html": [
       "<div>\n",
       "<style scoped>\n",
       "    .dataframe tbody tr th:only-of-type {\n",
       "        vertical-align: middle;\n",
       "    }\n",
       "\n",
       "    .dataframe tbody tr th {\n",
       "        vertical-align: top;\n",
       "    }\n",
       "\n",
       "    .dataframe thead th {\n",
       "        text-align: right;\n",
       "    }\n",
       "</style>\n",
       "<table border=\"1\" class=\"dataframe\">\n",
       "  <thead>\n",
       "    <tr style=\"text-align: right;\">\n",
       "      <th></th>\n",
       "      <th>Unnamed: 0</th>\n",
       "      <th>Unnamed: 0.1</th>\n",
       "      <th>Original Title</th>\n",
       "      <th>ISBN</th>\n",
       "      <th>Edition Language</th>\n",
       "      <th>Series</th>\n",
       "      <th>Characters</th>\n",
       "      <th>setting</th>\n",
       "      <th>Literary Awards</th>\n",
       "      <th>Genre</th>\n",
       "    </tr>\n",
       "  </thead>\n",
       "  <tbody>\n",
       "    <tr>\n",
       "      <th>0</th>\n",
       "      <td>0</td>\n",
       "      <td>0</td>\n",
       "      <td>The Hunger Games</td>\n",
       "      <td>0439023483            (ISBN13: 9780439023481)</td>\n",
       "      <td>English</td>\n",
       "      <td>The Hunger Games #1</td>\n",
       "      <td>Katniss Everdeen, Peeta Mellark, Cato (Hunger ...</td>\n",
       "      <td>District 12, Panem Capitol, Panem Panem (Unite...</td>\n",
       "      <td>Locus Award Nominee for Best Young Adult Book ...</td>\n",
       "      <td>['Young Adult', 'Fiction', 'Science Fiction', ...</td>\n",
       "    </tr>\n",
       "    <tr>\n",
       "      <th>1</th>\n",
       "      <td>1</td>\n",
       "      <td>1</td>\n",
       "      <td>Harry Potter and the Order of the Phoenix</td>\n",
       "      <td>0439358078            (ISBN13: 9780439358071)</td>\n",
       "      <td>English</td>\n",
       "      <td>Harry Potter #5</td>\n",
       "      <td>Sirius Black, Draco Malfoy, Ron Weasley, Petun...</td>\n",
       "      <td>Hogwarts School of Witchcraft and Wizardry (Un...</td>\n",
       "      <td>Bram Stoker Award for Works for Young Readers ...</td>\n",
       "      <td>['Fantasy', 'Young Adult', 'Fiction']</td>\n",
       "    </tr>\n",
       "    <tr>\n",
       "      <th>2</th>\n",
       "      <td>2</td>\n",
       "      <td>2</td>\n",
       "      <td>To Kill a Mockingbird</td>\n",
       "      <td>NaN</td>\n",
       "      <td>English</td>\n",
       "      <td>To Kill a Mockingbird #1</td>\n",
       "      <td>Scout Finch, Atticus Finch, Jem Finch, Arthur ...</td>\n",
       "      <td>Maycomb, Alabama, 1933 (United States)  Alabam...</td>\n",
       "      <td>Pulitzer Prize for Fiction (1961), Audie Award...</td>\n",
       "      <td>['Classics', 'Fiction', 'Historical', 'Histori...</td>\n",
       "    </tr>\n",
       "    <tr>\n",
       "      <th>3</th>\n",
       "      <td>3</td>\n",
       "      <td>3</td>\n",
       "      <td>Pride and Prejudice</td>\n",
       "      <td>NaN</td>\n",
       "      <td>English</td>\n",
       "      <td>NaN</td>\n",
       "      <td>Mr. Bennet, Mrs. Bennet, Jane Bennet, Elizabet...</td>\n",
       "      <td>England Hertfordshire, England Derbyshire, Eng...</td>\n",
       "      <td>NaN</td>\n",
       "      <td>['Classics', 'Fiction', 'Romance']</td>\n",
       "    </tr>\n",
       "    <tr>\n",
       "      <th>4</th>\n",
       "      <td>4</td>\n",
       "      <td>4</td>\n",
       "      <td>Twilight</td>\n",
       "      <td>0316015849            (ISBN13: 9780316015844)</td>\n",
       "      <td>English</td>\n",
       "      <td>Twilight #1</td>\n",
       "      <td>Edward Cullen, Jacob Black, Laurent, Renee, Be...</td>\n",
       "      <td>Forks, Washington (United States)  Phoenix, Ar...</td>\n",
       "      <td>Georgia Peach Book Award (2007), Buxtehuder Bu...</td>\n",
       "      <td>['Young Adult', 'Fantasy', 'Romance', 'Paranor...</td>\n",
       "    </tr>\n",
       "  </tbody>\n",
       "</table>\n",
       "</div>"
      ],
      "text/plain": [
       "   Unnamed: 0  Unnamed: 0.1                             Original Title  \\\n",
       "0           0             0                           The Hunger Games   \n",
       "1           1             1  Harry Potter and the Order of the Phoenix   \n",
       "2           2             2                      To Kill a Mockingbird   \n",
       "3           3             3                        Pride and Prejudice   \n",
       "4           4             4                                   Twilight   \n",
       "\n",
       "                                            ISBN Edition Language  \\\n",
       "0  0439023483            (ISBN13: 9780439023481)          English   \n",
       "1  0439358078            (ISBN13: 9780439358071)          English   \n",
       "2                                            NaN          English   \n",
       "3                                            NaN          English   \n",
       "4  0316015849            (ISBN13: 9780316015844)          English   \n",
       "\n",
       "                     Series  \\\n",
       "0       The Hunger Games #1   \n",
       "1           Harry Potter #5   \n",
       "2  To Kill a Mockingbird #1   \n",
       "3                       NaN   \n",
       "4               Twilight #1   \n",
       "\n",
       "                                          Characters  \\\n",
       "0  Katniss Everdeen, Peeta Mellark, Cato (Hunger ...   \n",
       "1  Sirius Black, Draco Malfoy, Ron Weasley, Petun...   \n",
       "2  Scout Finch, Atticus Finch, Jem Finch, Arthur ...   \n",
       "3  Mr. Bennet, Mrs. Bennet, Jane Bennet, Elizabet...   \n",
       "4  Edward Cullen, Jacob Black, Laurent, Renee, Be...   \n",
       "\n",
       "                                             setting  \\\n",
       "0  District 12, Panem Capitol, Panem Panem (Unite...   \n",
       "1  Hogwarts School of Witchcraft and Wizardry (Un...   \n",
       "2  Maycomb, Alabama, 1933 (United States)  Alabam...   \n",
       "3  England Hertfordshire, England Derbyshire, Eng...   \n",
       "4  Forks, Washington (United States)  Phoenix, Ar...   \n",
       "\n",
       "                                     Literary Awards  \\\n",
       "0  Locus Award Nominee for Best Young Adult Book ...   \n",
       "1  Bram Stoker Award for Works for Young Readers ...   \n",
       "2  Pulitzer Prize for Fiction (1961), Audie Award...   \n",
       "3                                                NaN   \n",
       "4  Georgia Peach Book Award (2007), Buxtehuder Bu...   \n",
       "\n",
       "                                               Genre  \n",
       "0  ['Young Adult', 'Fiction', 'Science Fiction', ...  \n",
       "1              ['Fantasy', 'Young Adult', 'Fiction']  \n",
       "2  ['Classics', 'Fiction', 'Historical', 'Histori...  \n",
       "3                 ['Classics', 'Fiction', 'Romance']  \n",
       "4  ['Young Adult', 'Fantasy', 'Romance', 'Paranor...  "
      ]
     },
     "execution_count": 24,
     "metadata": {},
     "output_type": "execute_result"
    }
   ],
   "source": [
    "dustin.head()"
   ]
  },
  {
   "cell_type": "code",
   "execution_count": 25,
   "metadata": {},
   "outputs": [
    {
     "data": {
      "text/plain": [
       "(2000, 9)"
      ]
     },
     "execution_count": 25,
     "metadata": {},
     "output_type": "execute_result"
    }
   ],
   "source": [
    "df.shape"
   ]
  },
  {
   "cell_type": "code",
   "execution_count": 26,
   "metadata": {},
   "outputs": [
    {
     "data": {
      "text/plain": [
       "(2000, 9)"
      ]
     },
     "execution_count": 26,
     "metadata": {},
     "output_type": "execute_result"
    }
   ],
   "source": [
    "df2.shape"
   ]
  },
  {
   "cell_type": "code",
   "execution_count": 27,
   "metadata": {},
   "outputs": [
    {
     "data": {
      "text/plain": [
       "(1633, 9)"
      ]
     },
     "execution_count": 27,
     "metadata": {},
     "output_type": "execute_result"
    }
   ],
   "source": [
    "df3.shape"
   ]
  },
  {
   "cell_type": "code",
   "execution_count": 28,
   "metadata": {},
   "outputs": [
    {
     "data": {
      "text/plain": [
       "(2000, 9)"
      ]
     },
     "execution_count": 28,
     "metadata": {},
     "output_type": "execute_result"
    }
   ],
   "source": [
    "df4.shape"
   ]
  },
  {
   "cell_type": "code",
   "execution_count": 29,
   "metadata": {},
   "outputs": [
    {
     "data": {
      "text/plain": [
       "(2001, 9)"
      ]
     },
     "execution_count": 29,
     "metadata": {},
     "output_type": "execute_result"
    }
   ],
   "source": [
    "df5.shape"
   ]
  },
  {
   "cell_type": "code",
   "execution_count": 44,
   "metadata": {},
   "outputs": [
    {
     "data": {
      "text/plain": [
       "Unnamed: 0             0\n",
       "Original Title      2958\n",
       "ISBN                3084\n",
       "Edition Language     966\n",
       "Series              6278\n",
       "Characters          7529\n",
       "setting             7849\n",
       "Literary Awards     7753\n",
       "Genre                  0\n",
       "dtype: int64"
      ]
     },
     "execution_count": 44,
     "metadata": {},
     "output_type": "execute_result"
    }
   ],
   "source": [
    "combined4.isnull().sum()"
   ]
  },
  {
   "cell_type": "code",
   "execution_count": 45,
   "metadata": {},
   "outputs": [
    {
     "data": {
      "text/plain": [
       "Unnamed: 0       0\n",
       "book_title       0\n",
       "description    292\n",
       "dtype: int64"
      ]
     },
     "execution_count": 45,
     "metadata": {},
     "output_type": "execute_result"
    }
   ],
   "source": [
    "combined3.isnull().sum()"
   ]
  },
  {
   "cell_type": "code",
   "execution_count": 46,
   "metadata": {},
   "outputs": [],
   "source": [
    "pythoncheck = pd.read_csv('/Users/mattmastin/Desktop/books_title_and_description_20k_30k.csv')"
   ]
  },
  {
   "cell_type": "code",
   "execution_count": 47,
   "metadata": {},
   "outputs": [
    {
     "name": "stdout",
     "output_type": "stream",
     "text": [
      "(10001, 4)\n"
     ]
    },
    {
     "data": {
      "text/html": [
       "<div>\n",
       "<style scoped>\n",
       "    .dataframe tbody tr th:only-of-type {\n",
       "        vertical-align: middle;\n",
       "    }\n",
       "\n",
       "    .dataframe tbody tr th {\n",
       "        vertical-align: top;\n",
       "    }\n",
       "\n",
       "    .dataframe thead th {\n",
       "        text-align: right;\n",
       "    }\n",
       "</style>\n",
       "<table border=\"1\" class=\"dataframe\">\n",
       "  <thead>\n",
       "    <tr style=\"text-align: right;\">\n",
       "      <th></th>\n",
       "      <th>Unnamed: 0</th>\n",
       "      <th>Unnamed: 0.1</th>\n",
       "      <th>book_title</th>\n",
       "      <th>description</th>\n",
       "    </tr>\n",
       "  </thead>\n",
       "  <tbody>\n",
       "    <tr>\n",
       "      <th>0</th>\n",
       "      <td>0</td>\n",
       "      <td>0</td>\n",
       "      <td>Dark Matter</td>\n",
       "      <td>Jason Dessen is walking home through the chill...</td>\n",
       "    </tr>\n",
       "    <tr>\n",
       "      <th>1</th>\n",
       "      <td>1</td>\n",
       "      <td>1</td>\n",
       "      <td>مثنوی معنوی جلد دوم: بر اساس نسخه قونیه</td>\n",
       "      <td>از صفحه 543 تا 1113 شامل مجلد دوم شامل جلدهای ...</td>\n",
       "    </tr>\n",
       "    <tr>\n",
       "      <th>2</th>\n",
       "      <td>2</td>\n",
       "      <td>2</td>\n",
       "      <td>The Way of Kings</td>\n",
       "      <td>From #1 New York Times bestselling author Bran...</td>\n",
       "    </tr>\n",
       "    <tr>\n",
       "      <th>3</th>\n",
       "      <td>3</td>\n",
       "      <td>3</td>\n",
       "      <td>The Gloaming</td>\n",
       "      <td>Pilgrim's husband left her for another woman, ...</td>\n",
       "    </tr>\n",
       "    <tr>\n",
       "      <th>4</th>\n",
       "      <td>4</td>\n",
       "      <td>4</td>\n",
       "      <td>Small Gods</td>\n",
       "      <td>Librarian's Note: For alternate cover edition ...</td>\n",
       "    </tr>\n",
       "  </tbody>\n",
       "</table>\n",
       "</div>"
      ],
      "text/plain": [
       "   Unnamed: 0  Unnamed: 0.1                               book_title  \\\n",
       "0           0             0                              Dark Matter   \n",
       "1           1             1  مثنوی معنوی جلد دوم: بر اساس نسخه قونیه   \n",
       "2           2             2                         The Way of Kings   \n",
       "3           3             3                             The Gloaming   \n",
       "4           4             4                               Small Gods   \n",
       "\n",
       "                                         description  \n",
       "0  Jason Dessen is walking home through the chill...  \n",
       "1  از صفحه 543 تا 1113 شامل مجلد دوم شامل جلدهای ...  \n",
       "2  From #1 New York Times bestselling author Bran...  \n",
       "3  Pilgrim's husband left her for another woman, ...  \n",
       "4  Librarian's Note: For alternate cover edition ...  "
      ]
     },
     "execution_count": 47,
     "metadata": {},
     "output_type": "execute_result"
    }
   ],
   "source": [
    "print(pythoncheck.shape)\n",
    "pythoncheck.head()"
   ]
  },
  {
   "cell_type": "code",
   "execution_count": 50,
   "metadata": {},
   "outputs": [],
   "source": [
    "dustin = pd.read_csv('/Users/mattmastin/Desktop/best_book_ever_3.csv')"
   ]
  },
  {
   "cell_type": "code",
   "execution_count": 51,
   "metadata": {},
   "outputs": [
    {
     "data": {
      "text/plain": [
       "(30000, 9)"
      ]
     },
     "execution_count": 51,
     "metadata": {},
     "output_type": "execute_result"
    }
   ],
   "source": [
    "dustin.shape"
   ]
  },
  {
   "cell_type": "code",
   "execution_count": 52,
   "metadata": {},
   "outputs": [
    {
     "data": {
      "text/html": [
       "<div>\n",
       "<style scoped>\n",
       "    .dataframe tbody tr th:only-of-type {\n",
       "        vertical-align: middle;\n",
       "    }\n",
       "\n",
       "    .dataframe tbody tr th {\n",
       "        vertical-align: top;\n",
       "    }\n",
       "\n",
       "    .dataframe thead th {\n",
       "        text-align: right;\n",
       "    }\n",
       "</style>\n",
       "<table border=\"1\" class=\"dataframe\">\n",
       "  <thead>\n",
       "    <tr style=\"text-align: right;\">\n",
       "      <th></th>\n",
       "      <th>Unnamed: 0</th>\n",
       "      <th>id</th>\n",
       "      <th>book_title</th>\n",
       "      <th>author</th>\n",
       "      <th>ratings</th>\n",
       "      <th>href</th>\n",
       "      <th>description</th>\n",
       "      <th>avg_rating</th>\n",
       "      <th>all_ratings</th>\n",
       "    </tr>\n",
       "  </thead>\n",
       "  <tbody>\n",
       "    <tr>\n",
       "      <th>29995</th>\n",
       "      <td>29995</td>\n",
       "      <td>6795627</td>\n",
       "      <td>Second Chances (Fabulous Four, #1)</td>\n",
       "      <td>Christina Corlett</td>\n",
       "      <td>did not like it 1.00 avg rating — 1 rating</td>\n",
       "      <td>/book/show/6795627-second-chances</td>\n",
       "      <td>When Brianna Amoretti catches her husband of a...</td>\n",
       "      <td>1.00</td>\n",
       "      <td>1</td>\n",
       "    </tr>\n",
       "    <tr>\n",
       "      <th>29996</th>\n",
       "      <td>29996</td>\n",
       "      <td>499784</td>\n",
       "      <td>Somebody's Someone: A Memoir</td>\n",
       "      <td>Regina Louise (Goodreads Author)</td>\n",
       "      <td>3.96 avg rating — 234 ratings</td>\n",
       "      <td>/book/show/499784.Somebody_s_Someone</td>\n",
       "      <td>What happens to a child when her own parents r...</td>\n",
       "      <td>3.96</td>\n",
       "      <td>234</td>\n",
       "    </tr>\n",
       "    <tr>\n",
       "      <th>29997</th>\n",
       "      <td>29997</td>\n",
       "      <td>181116</td>\n",
       "      <td>Monday Mourning (Temperance Brennan, #7)</td>\n",
       "      <td>Kathy Reichs (Goodreads Author)</td>\n",
       "      <td>4.03 avg rating — 27,879 ratings</td>\n",
       "      <td>/book/show/181116.Monday_Mourning</td>\n",
       "      <td>The secrets of the dead are in her hands. The...</td>\n",
       "      <td>4.03</td>\n",
       "      <td>27,879</td>\n",
       "    </tr>\n",
       "    <tr>\n",
       "      <th>29998</th>\n",
       "      <td>29998</td>\n",
       "      <td>2616682</td>\n",
       "      <td>Forest Wars</td>\n",
       "      <td>Graham Diamond (Goodreads Author)</td>\n",
       "      <td>3.59 avg rating — 22 ratings</td>\n",
       "      <td>/book/show/2616682-forest-wars</td>\n",
       "      <td>Midwest Book Review said: Don't expect pure fa...</td>\n",
       "      <td>3.59</td>\n",
       "      <td>22</td>\n",
       "    </tr>\n",
       "    <tr>\n",
       "      <th>29999</th>\n",
       "      <td>29999</td>\n",
       "      <td>72695</td>\n",
       "      <td>About Time: 12 Short Stories</td>\n",
       "      <td>Jack Finney</td>\n",
       "      <td>4.06 avg rating — 1,254 ratings</td>\n",
       "      <td>/book/show/72695.About_Time</td>\n",
       "      <td>About Time offers a delightful return to the w...</td>\n",
       "      <td>4.06</td>\n",
       "      <td>1,254</td>\n",
       "    </tr>\n",
       "  </tbody>\n",
       "</table>\n",
       "</div>"
      ],
      "text/plain": [
       "       Unnamed: 0       id                                book_title  \\\n",
       "29995       29995  6795627        Second Chances (Fabulous Four, #1)   \n",
       "29996       29996   499784              Somebody's Someone: A Memoir   \n",
       "29997       29997   181116  Monday Mourning (Temperance Brennan, #7)   \n",
       "29998       29998  2616682                               Forest Wars   \n",
       "29999       29999    72695              About Time: 12 Short Stories   \n",
       "\n",
       "                                  author  \\\n",
       "29995                  Christina Corlett   \n",
       "29996   Regina Louise (Goodreads Author)   \n",
       "29997    Kathy Reichs (Goodreads Author)   \n",
       "29998  Graham Diamond (Goodreads Author)   \n",
       "29999                        Jack Finney   \n",
       "\n",
       "                                          ratings  \\\n",
       "29995  did not like it 1.00 avg rating — 1 rating   \n",
       "29996               3.96 avg rating — 234 ratings   \n",
       "29997            4.03 avg rating — 27,879 ratings   \n",
       "29998                3.59 avg rating — 22 ratings   \n",
       "29999             4.06 avg rating — 1,254 ratings   \n",
       "\n",
       "                                       href  \\\n",
       "29995     /book/show/6795627-second-chances   \n",
       "29996  /book/show/499784.Somebody_s_Someone   \n",
       "29997     /book/show/181116.Monday_Mourning   \n",
       "29998        /book/show/2616682-forest-wars   \n",
       "29999           /book/show/72695.About_Time   \n",
       "\n",
       "                                             description  avg_rating  \\\n",
       "29995  When Brianna Amoretti catches her husband of a...        1.00   \n",
       "29996  What happens to a child when her own parents r...        3.96   \n",
       "29997   The secrets of the dead are in her hands. The...        4.03   \n",
       "29998  Midwest Book Review said: Don't expect pure fa...        3.59   \n",
       "29999  About Time offers a delightful return to the w...        4.06   \n",
       "\n",
       "      all_ratings  \n",
       "29995          1   \n",
       "29996        234   \n",
       "29997     27,879   \n",
       "29998         22   \n",
       "29999      1,254   "
      ]
     },
     "execution_count": 52,
     "metadata": {},
     "output_type": "execute_result"
    }
   ],
   "source": [
    "dustin.tail()"
   ]
  },
  {
   "cell_type": "code",
   "execution_count": 53,
   "metadata": {},
   "outputs": [
    {
     "data": {
      "text/plain": [
       "Unnamed: 0       0\n",
       "id               0\n",
       "book_title       0\n",
       "author           0\n",
       "ratings          0\n",
       "href             0\n",
       "description    514\n",
       "avg_rating       0\n",
       "all_ratings      0\n",
       "dtype: int64"
      ]
     },
     "execution_count": 53,
     "metadata": {},
     "output_type": "execute_result"
    }
   ],
   "source": [
    "dustin.isnull().sum()"
   ]
  },
  {
   "cell_type": "code",
   "execution_count": 58,
   "metadata": {},
   "outputs": [],
   "source": [
    "will1 = pd.read_csv('/Users/mattmastin/Desktop/details10-20/more_detail_genre10k-12k.csv')\n",
    "will2 = pd.read_csv('/Users/mattmastin/Desktop/details10-20/more_detail_genre12k-14k.csv')\n",
    "will3 = pd.read_csv('/Users/mattmastin/Desktop/details10-20/more_detail_genre14k-16k.csv')\n",
    "will4 = pd.read_csv('/Users/mattmastin/Desktop/details10-20/more_detail_genre16k-18k.csv')\n",
    "will5 = pd.read_csv('/Users/mattmastin/Desktop/details10-20/more_detail_genre18k-20k.csv')"
   ]
  },
  {
   "cell_type": "code",
   "execution_count": 59,
   "metadata": {},
   "outputs": [],
   "source": [
    "willcomb = pd.concat([will1, will2, will3, will4, will5, ])"
   ]
  },
  {
   "cell_type": "code",
   "execution_count": 60,
   "metadata": {},
   "outputs": [
    {
     "data": {
      "text/plain": [
       "(10000, 9)"
      ]
     },
     "execution_count": 60,
     "metadata": {},
     "output_type": "execute_result"
    }
   ],
   "source": [
    "willcomb.shape"
   ]
  },
  {
   "cell_type": "code",
   "execution_count": 95,
   "metadata": {},
   "outputs": [],
   "source": [
    "more_detail_genre_30k = pd.concat([dustin2, willcomb, combined4], sort=False)"
   ]
  },
  {
   "cell_type": "code",
   "execution_count": 86,
   "metadata": {},
   "outputs": [
    {
     "data": {
      "text/plain": [
       "(30001, 10)"
      ]
     },
     "execution_count": 86,
     "metadata": {},
     "output_type": "execute_result"
    }
   ],
   "source": [
    "more_detail_genre_30k.shape"
   ]
  },
  {
   "cell_type": "code",
   "execution_count": 78,
   "metadata": {},
   "outputs": [
    {
     "data": {
      "text/html": [
       "<div>\n",
       "<style scoped>\n",
       "    .dataframe tbody tr th:only-of-type {\n",
       "        vertical-align: middle;\n",
       "    }\n",
       "\n",
       "    .dataframe tbody tr th {\n",
       "        vertical-align: top;\n",
       "    }\n",
       "\n",
       "    .dataframe thead th {\n",
       "        text-align: right;\n",
       "    }\n",
       "</style>\n",
       "<table border=\"1\" class=\"dataframe\">\n",
       "  <thead>\n",
       "    <tr style=\"text-align: right;\">\n",
       "      <th></th>\n",
       "      <th>Unnamed: 0</th>\n",
       "      <th>Unnamed: 0.1</th>\n",
       "      <th>Original Title</th>\n",
       "      <th>ISBN</th>\n",
       "      <th>Edition Language</th>\n",
       "      <th>Series</th>\n",
       "      <th>Characters</th>\n",
       "      <th>setting</th>\n",
       "      <th>Literary Awards</th>\n",
       "      <th>Genre</th>\n",
       "    </tr>\n",
       "  </thead>\n",
       "  <tbody>\n",
       "    <tr>\n",
       "      <th>0</th>\n",
       "      <td>0</td>\n",
       "      <td>0.0</td>\n",
       "      <td>The Hunger Games</td>\n",
       "      <td>0439023483            (ISBN13: 9780439023481)</td>\n",
       "      <td>English</td>\n",
       "      <td>The Hunger Games #1</td>\n",
       "      <td>Katniss Everdeen, Peeta Mellark, Cato (Hunger ...</td>\n",
       "      <td>District 12, Panem Capitol, Panem Panem (Unite...</td>\n",
       "      <td>Locus Award Nominee for Best Young Adult Book ...</td>\n",
       "      <td>['Young Adult', 'Fiction', 'Science Fiction', ...</td>\n",
       "    </tr>\n",
       "    <tr>\n",
       "      <th>1</th>\n",
       "      <td>1</td>\n",
       "      <td>1.0</td>\n",
       "      <td>Harry Potter and the Order of the Phoenix</td>\n",
       "      <td>0439358078            (ISBN13: 9780439358071)</td>\n",
       "      <td>English</td>\n",
       "      <td>Harry Potter #5</td>\n",
       "      <td>Sirius Black, Draco Malfoy, Ron Weasley, Petun...</td>\n",
       "      <td>Hogwarts School of Witchcraft and Wizardry (Un...</td>\n",
       "      <td>Bram Stoker Award for Works for Young Readers ...</td>\n",
       "      <td>['Fantasy', 'Young Adult', 'Fiction']</td>\n",
       "    </tr>\n",
       "    <tr>\n",
       "      <th>2</th>\n",
       "      <td>2</td>\n",
       "      <td>2.0</td>\n",
       "      <td>To Kill a Mockingbird</td>\n",
       "      <td>NaN</td>\n",
       "      <td>English</td>\n",
       "      <td>To Kill a Mockingbird #1</td>\n",
       "      <td>Scout Finch, Atticus Finch, Jem Finch, Arthur ...</td>\n",
       "      <td>Maycomb, Alabama, 1933 (United States)  Alabam...</td>\n",
       "      <td>Pulitzer Prize for Fiction (1961), Audie Award...</td>\n",
       "      <td>['Classics', 'Fiction', 'Historical', 'Histori...</td>\n",
       "    </tr>\n",
       "    <tr>\n",
       "      <th>3</th>\n",
       "      <td>3</td>\n",
       "      <td>3.0</td>\n",
       "      <td>Pride and Prejudice</td>\n",
       "      <td>NaN</td>\n",
       "      <td>English</td>\n",
       "      <td>NaN</td>\n",
       "      <td>Mr. Bennet, Mrs. Bennet, Jane Bennet, Elizabet...</td>\n",
       "      <td>England Hertfordshire, England Derbyshire, Eng...</td>\n",
       "      <td>NaN</td>\n",
       "      <td>['Classics', 'Fiction', 'Romance']</td>\n",
       "    </tr>\n",
       "    <tr>\n",
       "      <th>4</th>\n",
       "      <td>4</td>\n",
       "      <td>4.0</td>\n",
       "      <td>Twilight</td>\n",
       "      <td>0316015849            (ISBN13: 9780316015844)</td>\n",
       "      <td>English</td>\n",
       "      <td>Twilight #1</td>\n",
       "      <td>Edward Cullen, Jacob Black, Laurent, Renee, Be...</td>\n",
       "      <td>Forks, Washington (United States)  Phoenix, Ar...</td>\n",
       "      <td>Georgia Peach Book Award (2007), Buxtehuder Bu...</td>\n",
       "      <td>['Young Adult', 'Fantasy', 'Romance', 'Paranor...</td>\n",
       "    </tr>\n",
       "  </tbody>\n",
       "</table>\n",
       "</div>"
      ],
      "text/plain": [
       "   Unnamed: 0  Unnamed: 0.1                             Original Title  \\\n",
       "0           0           0.0                           The Hunger Games   \n",
       "1           1           1.0  Harry Potter and the Order of the Phoenix   \n",
       "2           2           2.0                      To Kill a Mockingbird   \n",
       "3           3           3.0                        Pride and Prejudice   \n",
       "4           4           4.0                                   Twilight   \n",
       "\n",
       "                                            ISBN Edition Language  \\\n",
       "0  0439023483            (ISBN13: 9780439023481)          English   \n",
       "1  0439358078            (ISBN13: 9780439358071)          English   \n",
       "2                                            NaN          English   \n",
       "3                                            NaN          English   \n",
       "4  0316015849            (ISBN13: 9780316015844)          English   \n",
       "\n",
       "                     Series  \\\n",
       "0       The Hunger Games #1   \n",
       "1           Harry Potter #5   \n",
       "2  To Kill a Mockingbird #1   \n",
       "3                       NaN   \n",
       "4               Twilight #1   \n",
       "\n",
       "                                          Characters  \\\n",
       "0  Katniss Everdeen, Peeta Mellark, Cato (Hunger ...   \n",
       "1  Sirius Black, Draco Malfoy, Ron Weasley, Petun...   \n",
       "2  Scout Finch, Atticus Finch, Jem Finch, Arthur ...   \n",
       "3  Mr. Bennet, Mrs. Bennet, Jane Bennet, Elizabet...   \n",
       "4  Edward Cullen, Jacob Black, Laurent, Renee, Be...   \n",
       "\n",
       "                                             setting  \\\n",
       "0  District 12, Panem Capitol, Panem Panem (Unite...   \n",
       "1  Hogwarts School of Witchcraft and Wizardry (Un...   \n",
       "2  Maycomb, Alabama, 1933 (United States)  Alabam...   \n",
       "3  England Hertfordshire, England Derbyshire, Eng...   \n",
       "4  Forks, Washington (United States)  Phoenix, Ar...   \n",
       "\n",
       "                                     Literary Awards  \\\n",
       "0  Locus Award Nominee for Best Young Adult Book ...   \n",
       "1  Bram Stoker Award for Works for Young Readers ...   \n",
       "2  Pulitzer Prize for Fiction (1961), Audie Award...   \n",
       "3                                                NaN   \n",
       "4  Georgia Peach Book Award (2007), Buxtehuder Bu...   \n",
       "\n",
       "                                               Genre  \n",
       "0  ['Young Adult', 'Fiction', 'Science Fiction', ...  \n",
       "1              ['Fantasy', 'Young Adult', 'Fiction']  \n",
       "2  ['Classics', 'Fiction', 'Historical', 'Histori...  \n",
       "3                 ['Classics', 'Fiction', 'Romance']  \n",
       "4  ['Young Adult', 'Fantasy', 'Romance', 'Paranor...  "
      ]
     },
     "execution_count": 78,
     "metadata": {},
     "output_type": "execute_result"
    }
   ],
   "source": [
    "more_detail_genre_30k.head()"
   ]
  },
  {
   "cell_type": "code",
   "execution_count": 79,
   "metadata": {},
   "outputs": [
    {
     "data": {
      "text/html": [
       "<div>\n",
       "<style scoped>\n",
       "    .dataframe tbody tr th:only-of-type {\n",
       "        vertical-align: middle;\n",
       "    }\n",
       "\n",
       "    .dataframe tbody tr th {\n",
       "        vertical-align: top;\n",
       "    }\n",
       "\n",
       "    .dataframe thead th {\n",
       "        text-align: right;\n",
       "    }\n",
       "</style>\n",
       "<table border=\"1\" class=\"dataframe\">\n",
       "  <thead>\n",
       "    <tr style=\"text-align: right;\">\n",
       "      <th></th>\n",
       "      <th>Unnamed: 0</th>\n",
       "      <th>Unnamed: 0.1</th>\n",
       "      <th>Original Title</th>\n",
       "      <th>ISBN</th>\n",
       "      <th>Edition Language</th>\n",
       "      <th>Series</th>\n",
       "      <th>Characters</th>\n",
       "      <th>setting</th>\n",
       "      <th>Literary Awards</th>\n",
       "      <th>Genre</th>\n",
       "    </tr>\n",
       "  </thead>\n",
       "  <tbody>\n",
       "    <tr>\n",
       "      <th>1996</th>\n",
       "      <td>1996</td>\n",
       "      <td>NaN</td>\n",
       "      <td>Somebody's Someone: A Memoir</td>\n",
       "      <td>0446529109            (ISBN13: 9780446529105)</td>\n",
       "      <td>English</td>\n",
       "      <td>NaN</td>\n",
       "      <td>NaN</td>\n",
       "      <td>NaN</td>\n",
       "      <td>Hurston/Wright Legacy Award Nominee for Nonfic...</td>\n",
       "      <td>['Nonfiction', 'Autobiography', 'Memoir', 'Bio...</td>\n",
       "    </tr>\n",
       "    <tr>\n",
       "      <th>1997</th>\n",
       "      <td>1997</td>\n",
       "      <td>NaN</td>\n",
       "      <td>Monday Mourning</td>\n",
       "      <td>0743453018            (ISBN13: 9780743453011)</td>\n",
       "      <td>English</td>\n",
       "      <td>Temperance Brennan #7</td>\n",
       "      <td>Temperance Brennan, Andrew Ryan, Luc Claudel</td>\n",
       "      <td>Montreal, Quebec (Montréal, Québec) (Canada)</td>\n",
       "      <td>NaN</td>\n",
       "      <td>['Mystery', 'Mystery', 'Crime', 'Fiction', 'Th...</td>\n",
       "    </tr>\n",
       "    <tr>\n",
       "      <th>1998</th>\n",
       "      <td>1998</td>\n",
       "      <td>NaN</td>\n",
       "      <td>Forest Wars</td>\n",
       "      <td>1419675672            (ISBN13: 9781419675676)</td>\n",
       "      <td>English</td>\n",
       "      <td>NaN</td>\n",
       "      <td>NaN</td>\n",
       "      <td>NaN</td>\n",
       "      <td>NaN</td>\n",
       "      <td>[]</td>\n",
       "    </tr>\n",
       "    <tr>\n",
       "      <th>1999</th>\n",
       "      <td>1999</td>\n",
       "      <td>NaN</td>\n",
       "      <td>About Time: 12 Short Stories</td>\n",
       "      <td>068484866X            (ISBN13: 9780684848662)</td>\n",
       "      <td>English</td>\n",
       "      <td>NaN</td>\n",
       "      <td>NaN</td>\n",
       "      <td>NaN</td>\n",
       "      <td>NaN</td>\n",
       "      <td>['Science Fiction', 'Time Travel', 'Short Stor...</td>\n",
       "    </tr>\n",
       "    <tr>\n",
       "      <th>2000</th>\n",
       "      <td>2000</td>\n",
       "      <td>NaN</td>\n",
       "      <td>Burying The Shadow</td>\n",
       "      <td>1892065452            (ISBN13: 9781892065452)</td>\n",
       "      <td>English</td>\n",
       "      <td>NaN</td>\n",
       "      <td>NaN</td>\n",
       "      <td>NaN</td>\n",
       "      <td>NaN</td>\n",
       "      <td>['Fantasy', 'Paranormal', 'Vampires', 'Science...</td>\n",
       "    </tr>\n",
       "  </tbody>\n",
       "</table>\n",
       "</div>"
      ],
      "text/plain": [
       "      Unnamed: 0  Unnamed: 0.1                Original Title  \\\n",
       "1996        1996           NaN  Somebody's Someone: A Memoir   \n",
       "1997        1997           NaN               Monday Mourning   \n",
       "1998        1998           NaN                   Forest Wars   \n",
       "1999        1999           NaN  About Time: 12 Short Stories   \n",
       "2000        2000           NaN            Burying The Shadow   \n",
       "\n",
       "                                               ISBN Edition Language  \\\n",
       "1996  0446529109            (ISBN13: 9780446529105)          English   \n",
       "1997  0743453018            (ISBN13: 9780743453011)          English   \n",
       "1998  1419675672            (ISBN13: 9781419675676)          English   \n",
       "1999  068484866X            (ISBN13: 9780684848662)          English   \n",
       "2000  1892065452            (ISBN13: 9781892065452)          English   \n",
       "\n",
       "                     Series                                    Characters  \\\n",
       "1996                    NaN                                           NaN   \n",
       "1997  Temperance Brennan #7  Temperance Brennan, Andrew Ryan, Luc Claudel   \n",
       "1998                    NaN                                           NaN   \n",
       "1999                    NaN                                           NaN   \n",
       "2000                    NaN                                           NaN   \n",
       "\n",
       "                                           setting  \\\n",
       "1996                                           NaN   \n",
       "1997  Montreal, Quebec (Montréal, Québec) (Canada)   \n",
       "1998                                           NaN   \n",
       "1999                                           NaN   \n",
       "2000                                           NaN   \n",
       "\n",
       "                                        Literary Awards  \\\n",
       "1996  Hurston/Wright Legacy Award Nominee for Nonfic...   \n",
       "1997                                                NaN   \n",
       "1998                                                NaN   \n",
       "1999                                                NaN   \n",
       "2000                                                NaN   \n",
       "\n",
       "                                                  Genre  \n",
       "1996  ['Nonfiction', 'Autobiography', 'Memoir', 'Bio...  \n",
       "1997  ['Mystery', 'Mystery', 'Crime', 'Fiction', 'Th...  \n",
       "1998                                                 []  \n",
       "1999  ['Science Fiction', 'Time Travel', 'Short Stor...  \n",
       "2000  ['Fantasy', 'Paranormal', 'Vampires', 'Science...  "
      ]
     },
     "execution_count": 79,
     "metadata": {},
     "output_type": "execute_result"
    }
   ],
   "source": [
    "more_detail_genre_30k.tail()"
   ]
  },
  {
   "cell_type": "code",
   "execution_count": 96,
   "metadata": {},
   "outputs": [],
   "source": [
    "more_detail_genre_30k = more_detail_genre_30k[['Original Title', 'ISBN',\n",
    "                                             'Edition Language', 'Series', 'Characters', \n",
    "                                             'setting', 'Literary Awards', 'Genre']]"
   ]
  },
  {
   "cell_type": "code",
   "execution_count": 74,
   "metadata": {},
   "outputs": [],
   "source": [
    "# more_detail_genre_30k.drop(df.tail(1).index, inplace=True)"
   ]
  },
  {
   "cell_type": "code",
   "execution_count": 75,
   "metadata": {},
   "outputs": [
    {
     "data": {
      "text/plain": [
       "(29990, 8)"
      ]
     },
     "execution_count": 75,
     "metadata": {},
     "output_type": "execute_result"
    }
   ],
   "source": [
    "more_detail_genre_30k.shape"
   ]
  },
  {
   "cell_type": "code",
   "execution_count": 97,
   "metadata": {},
   "outputs": [],
   "source": [
    "more_detail_genre_30k = more_detail_genre_30k[:-1]"
   ]
  },
  {
   "cell_type": "code",
   "execution_count": 98,
   "metadata": {},
   "outputs": [
    {
     "data": {
      "text/plain": [
       "(30000, 8)"
      ]
     },
     "execution_count": 98,
     "metadata": {},
     "output_type": "execute_result"
    }
   ],
   "source": [
    "more_detail_genre_30k.shape"
   ]
  },
  {
   "cell_type": "code",
   "execution_count": 90,
   "metadata": {},
   "outputs": [
    {
     "data": {
      "text/html": [
       "<div>\n",
       "<style scoped>\n",
       "    .dataframe tbody tr th:only-of-type {\n",
       "        vertical-align: middle;\n",
       "    }\n",
       "\n",
       "    .dataframe tbody tr th {\n",
       "        vertical-align: top;\n",
       "    }\n",
       "\n",
       "    .dataframe thead th {\n",
       "        text-align: right;\n",
       "    }\n",
       "</style>\n",
       "<table border=\"1\" class=\"dataframe\">\n",
       "  <thead>\n",
       "    <tr style=\"text-align: right;\">\n",
       "      <th></th>\n",
       "      <th>Original Title</th>\n",
       "      <th>ISBN</th>\n",
       "      <th>Edition Language</th>\n",
       "      <th>Series</th>\n",
       "      <th>Characters</th>\n",
       "      <th>setting</th>\n",
       "      <th>Literary Awards</th>\n",
       "      <th>Genre</th>\n",
       "    </tr>\n",
       "  </thead>\n",
       "  <tbody>\n",
       "    <tr>\n",
       "      <th>0</th>\n",
       "      <td>The Hunger Games</td>\n",
       "      <td>0439023483            (ISBN13: 9780439023481)</td>\n",
       "      <td>English</td>\n",
       "      <td>The Hunger Games #1</td>\n",
       "      <td>Katniss Everdeen, Peeta Mellark, Cato (Hunger ...</td>\n",
       "      <td>District 12, Panem Capitol, Panem Panem (Unite...</td>\n",
       "      <td>Locus Award Nominee for Best Young Adult Book ...</td>\n",
       "      <td>['Young Adult', 'Fiction', 'Science Fiction', ...</td>\n",
       "    </tr>\n",
       "    <tr>\n",
       "      <th>1</th>\n",
       "      <td>Harry Potter and the Order of the Phoenix</td>\n",
       "      <td>0439358078            (ISBN13: 9780439358071)</td>\n",
       "      <td>English</td>\n",
       "      <td>Harry Potter #5</td>\n",
       "      <td>Sirius Black, Draco Malfoy, Ron Weasley, Petun...</td>\n",
       "      <td>Hogwarts School of Witchcraft and Wizardry (Un...</td>\n",
       "      <td>Bram Stoker Award for Works for Young Readers ...</td>\n",
       "      <td>['Fantasy', 'Young Adult', 'Fiction']</td>\n",
       "    </tr>\n",
       "    <tr>\n",
       "      <th>2</th>\n",
       "      <td>To Kill a Mockingbird</td>\n",
       "      <td>NaN</td>\n",
       "      <td>English</td>\n",
       "      <td>To Kill a Mockingbird #1</td>\n",
       "      <td>Scout Finch, Atticus Finch, Jem Finch, Arthur ...</td>\n",
       "      <td>Maycomb, Alabama, 1933 (United States)  Alabam...</td>\n",
       "      <td>Pulitzer Prize for Fiction (1961), Audie Award...</td>\n",
       "      <td>['Classics', 'Fiction', 'Historical', 'Histori...</td>\n",
       "    </tr>\n",
       "    <tr>\n",
       "      <th>3</th>\n",
       "      <td>Pride and Prejudice</td>\n",
       "      <td>NaN</td>\n",
       "      <td>English</td>\n",
       "      <td>NaN</td>\n",
       "      <td>Mr. Bennet, Mrs. Bennet, Jane Bennet, Elizabet...</td>\n",
       "      <td>England Hertfordshire, England Derbyshire, Eng...</td>\n",
       "      <td>NaN</td>\n",
       "      <td>['Classics', 'Fiction', 'Romance']</td>\n",
       "    </tr>\n",
       "    <tr>\n",
       "      <th>4</th>\n",
       "      <td>Twilight</td>\n",
       "      <td>0316015849            (ISBN13: 9780316015844)</td>\n",
       "      <td>English</td>\n",
       "      <td>Twilight #1</td>\n",
       "      <td>Edward Cullen, Jacob Black, Laurent, Renee, Be...</td>\n",
       "      <td>Forks, Washington (United States)  Phoenix, Ar...</td>\n",
       "      <td>Georgia Peach Book Award (2007), Buxtehuder Bu...</td>\n",
       "      <td>['Young Adult', 'Fantasy', 'Romance', 'Paranor...</td>\n",
       "    </tr>\n",
       "  </tbody>\n",
       "</table>\n",
       "</div>"
      ],
      "text/plain": [
       "                              Original Title  \\\n",
       "0                           The Hunger Games   \n",
       "1  Harry Potter and the Order of the Phoenix   \n",
       "2                      To Kill a Mockingbird   \n",
       "3                        Pride and Prejudice   \n",
       "4                                   Twilight   \n",
       "\n",
       "                                            ISBN Edition Language  \\\n",
       "0  0439023483            (ISBN13: 9780439023481)          English   \n",
       "1  0439358078            (ISBN13: 9780439358071)          English   \n",
       "2                                            NaN          English   \n",
       "3                                            NaN          English   \n",
       "4  0316015849            (ISBN13: 9780316015844)          English   \n",
       "\n",
       "                     Series  \\\n",
       "0       The Hunger Games #1   \n",
       "1           Harry Potter #5   \n",
       "2  To Kill a Mockingbird #1   \n",
       "3                       NaN   \n",
       "4               Twilight #1   \n",
       "\n",
       "                                          Characters  \\\n",
       "0  Katniss Everdeen, Peeta Mellark, Cato (Hunger ...   \n",
       "1  Sirius Black, Draco Malfoy, Ron Weasley, Petun...   \n",
       "2  Scout Finch, Atticus Finch, Jem Finch, Arthur ...   \n",
       "3  Mr. Bennet, Mrs. Bennet, Jane Bennet, Elizabet...   \n",
       "4  Edward Cullen, Jacob Black, Laurent, Renee, Be...   \n",
       "\n",
       "                                             setting  \\\n",
       "0  District 12, Panem Capitol, Panem Panem (Unite...   \n",
       "1  Hogwarts School of Witchcraft and Wizardry (Un...   \n",
       "2  Maycomb, Alabama, 1933 (United States)  Alabam...   \n",
       "3  England Hertfordshire, England Derbyshire, Eng...   \n",
       "4  Forks, Washington (United States)  Phoenix, Ar...   \n",
       "\n",
       "                                     Literary Awards  \\\n",
       "0  Locus Award Nominee for Best Young Adult Book ...   \n",
       "1  Bram Stoker Award for Works for Young Readers ...   \n",
       "2  Pulitzer Prize for Fiction (1961), Audie Award...   \n",
       "3                                                NaN   \n",
       "4  Georgia Peach Book Award (2007), Buxtehuder Bu...   \n",
       "\n",
       "                                               Genre  \n",
       "0  ['Young Adult', 'Fiction', 'Science Fiction', ...  \n",
       "1              ['Fantasy', 'Young Adult', 'Fiction']  \n",
       "2  ['Classics', 'Fiction', 'Historical', 'Histori...  \n",
       "3                 ['Classics', 'Fiction', 'Romance']  \n",
       "4  ['Young Adult', 'Fantasy', 'Romance', 'Paranor...  "
      ]
     },
     "execution_count": 90,
     "metadata": {},
     "output_type": "execute_result"
    }
   ],
   "source": [
    "more_detail_genre_30k.head()"
   ]
  },
  {
   "cell_type": "code",
   "execution_count": 91,
   "metadata": {},
   "outputs": [
    {
     "data": {
      "text/plain": [
       "Original Title       6430\n",
       "ISBN                 6544\n",
       "Edition Language     1813\n",
       "Series              16614\n",
       "Characters          18872\n",
       "setting             20984\n",
       "Literary Awards     21362\n",
       "Genre                   0\n",
       "dtype: int64"
      ]
     },
     "execution_count": 91,
     "metadata": {},
     "output_type": "execute_result"
    }
   ],
   "source": [
    "more_detail_genre_30k.isnull().sum()"
   ]
  },
  {
   "cell_type": "code",
   "execution_count": 99,
   "metadata": {},
   "outputs": [],
   "source": [
    "import numpy as np\n",
    "more_detail_genre_30k['Literary Awards'] = more_detail_genre_30k['Literary Awards'] != np.nan"
   ]
  },
  {
   "cell_type": "code",
   "execution_count": 100,
   "metadata": {},
   "outputs": [
    {
     "data": {
      "text/html": [
       "<div>\n",
       "<style scoped>\n",
       "    .dataframe tbody tr th:only-of-type {\n",
       "        vertical-align: middle;\n",
       "    }\n",
       "\n",
       "    .dataframe tbody tr th {\n",
       "        vertical-align: top;\n",
       "    }\n",
       "\n",
       "    .dataframe thead th {\n",
       "        text-align: right;\n",
       "    }\n",
       "</style>\n",
       "<table border=\"1\" class=\"dataframe\">\n",
       "  <thead>\n",
       "    <tr style=\"text-align: right;\">\n",
       "      <th></th>\n",
       "      <th>Original Title</th>\n",
       "      <th>ISBN</th>\n",
       "      <th>Edition Language</th>\n",
       "      <th>Series</th>\n",
       "      <th>Characters</th>\n",
       "      <th>setting</th>\n",
       "      <th>Literary Awards</th>\n",
       "      <th>Genre</th>\n",
       "    </tr>\n",
       "  </thead>\n",
       "  <tbody>\n",
       "    <tr>\n",
       "      <th>0</th>\n",
       "      <td>The Hunger Games</td>\n",
       "      <td>0439023483            (ISBN13: 9780439023481)</td>\n",
       "      <td>English</td>\n",
       "      <td>The Hunger Games #1</td>\n",
       "      <td>Katniss Everdeen, Peeta Mellark, Cato (Hunger ...</td>\n",
       "      <td>District 12, Panem Capitol, Panem Panem (Unite...</td>\n",
       "      <td>True</td>\n",
       "      <td>['Young Adult', 'Fiction', 'Science Fiction', ...</td>\n",
       "    </tr>\n",
       "    <tr>\n",
       "      <th>1</th>\n",
       "      <td>Harry Potter and the Order of the Phoenix</td>\n",
       "      <td>0439358078            (ISBN13: 9780439358071)</td>\n",
       "      <td>English</td>\n",
       "      <td>Harry Potter #5</td>\n",
       "      <td>Sirius Black, Draco Malfoy, Ron Weasley, Petun...</td>\n",
       "      <td>Hogwarts School of Witchcraft and Wizardry (Un...</td>\n",
       "      <td>True</td>\n",
       "      <td>['Fantasy', 'Young Adult', 'Fiction']</td>\n",
       "    </tr>\n",
       "    <tr>\n",
       "      <th>2</th>\n",
       "      <td>To Kill a Mockingbird</td>\n",
       "      <td>NaN</td>\n",
       "      <td>English</td>\n",
       "      <td>To Kill a Mockingbird #1</td>\n",
       "      <td>Scout Finch, Atticus Finch, Jem Finch, Arthur ...</td>\n",
       "      <td>Maycomb, Alabama, 1933 (United States)  Alabam...</td>\n",
       "      <td>True</td>\n",
       "      <td>['Classics', 'Fiction', 'Historical', 'Histori...</td>\n",
       "    </tr>\n",
       "    <tr>\n",
       "      <th>3</th>\n",
       "      <td>Pride and Prejudice</td>\n",
       "      <td>NaN</td>\n",
       "      <td>English</td>\n",
       "      <td>NaN</td>\n",
       "      <td>Mr. Bennet, Mrs. Bennet, Jane Bennet, Elizabet...</td>\n",
       "      <td>England Hertfordshire, England Derbyshire, Eng...</td>\n",
       "      <td>True</td>\n",
       "      <td>['Classics', 'Fiction', 'Romance']</td>\n",
       "    </tr>\n",
       "    <tr>\n",
       "      <th>4</th>\n",
       "      <td>Twilight</td>\n",
       "      <td>0316015849            (ISBN13: 9780316015844)</td>\n",
       "      <td>English</td>\n",
       "      <td>Twilight #1</td>\n",
       "      <td>Edward Cullen, Jacob Black, Laurent, Renee, Be...</td>\n",
       "      <td>Forks, Washington (United States)  Phoenix, Ar...</td>\n",
       "      <td>True</td>\n",
       "      <td>['Young Adult', 'Fantasy', 'Romance', 'Paranor...</td>\n",
       "    </tr>\n",
       "  </tbody>\n",
       "</table>\n",
       "</div>"
      ],
      "text/plain": [
       "                              Original Title  \\\n",
       "0                           The Hunger Games   \n",
       "1  Harry Potter and the Order of the Phoenix   \n",
       "2                      To Kill a Mockingbird   \n",
       "3                        Pride and Prejudice   \n",
       "4                                   Twilight   \n",
       "\n",
       "                                            ISBN Edition Language  \\\n",
       "0  0439023483            (ISBN13: 9780439023481)          English   \n",
       "1  0439358078            (ISBN13: 9780439358071)          English   \n",
       "2                                            NaN          English   \n",
       "3                                            NaN          English   \n",
       "4  0316015849            (ISBN13: 9780316015844)          English   \n",
       "\n",
       "                     Series  \\\n",
       "0       The Hunger Games #1   \n",
       "1           Harry Potter #5   \n",
       "2  To Kill a Mockingbird #1   \n",
       "3                       NaN   \n",
       "4               Twilight #1   \n",
       "\n",
       "                                          Characters  \\\n",
       "0  Katniss Everdeen, Peeta Mellark, Cato (Hunger ...   \n",
       "1  Sirius Black, Draco Malfoy, Ron Weasley, Petun...   \n",
       "2  Scout Finch, Atticus Finch, Jem Finch, Arthur ...   \n",
       "3  Mr. Bennet, Mrs. Bennet, Jane Bennet, Elizabet...   \n",
       "4  Edward Cullen, Jacob Black, Laurent, Renee, Be...   \n",
       "\n",
       "                                             setting  Literary Awards  \\\n",
       "0  District 12, Panem Capitol, Panem Panem (Unite...             True   \n",
       "1  Hogwarts School of Witchcraft and Wizardry (Un...             True   \n",
       "2  Maycomb, Alabama, 1933 (United States)  Alabam...             True   \n",
       "3  England Hertfordshire, England Derbyshire, Eng...             True   \n",
       "4  Forks, Washington (United States)  Phoenix, Ar...             True   \n",
       "\n",
       "                                               Genre  \n",
       "0  ['Young Adult', 'Fiction', 'Science Fiction', ...  \n",
       "1              ['Fantasy', 'Young Adult', 'Fiction']  \n",
       "2  ['Classics', 'Fiction', 'Historical', 'Histori...  \n",
       "3                 ['Classics', 'Fiction', 'Romance']  \n",
       "4  ['Young Adult', 'Fantasy', 'Romance', 'Paranor...  "
      ]
     },
     "execution_count": 100,
     "metadata": {},
     "output_type": "execute_result"
    }
   ],
   "source": [
    "more_detail_genre_30k.head()"
   ]
  },
  {
   "cell_type": "code",
   "execution_count": 101,
   "metadata": {},
   "outputs": [
    {
     "data": {
      "text/plain": [
       "Original Title       6430\n",
       "ISBN                 6544\n",
       "Edition Language     1813\n",
       "Series              16614\n",
       "Characters          18872\n",
       "setting             20984\n",
       "Literary Awards         0\n",
       "Genre                   0\n",
       "dtype: int64"
      ]
     },
     "execution_count": 101,
     "metadata": {},
     "output_type": "execute_result"
    }
   ],
   "source": [
    "more_detail_genre_30k.isnull().sum()"
   ]
  },
  {
   "cell_type": "code",
   "execution_count": 102,
   "metadata": {},
   "outputs": [],
   "source": [
    "more_detail_genre_30k.to_csv('more_detail_genre_full_30k.csv', index=False)"
   ]
  },
  {
   "cell_type": "code",
   "execution_count": 103,
   "metadata": {},
   "outputs": [
    {
     "data": {
      "text/plain": [
       "count     30000\n",
       "unique    17427\n",
       "top          []\n",
       "freq       2241\n",
       "Name: Genre, dtype: object"
      ]
     },
     "execution_count": 103,
     "metadata": {},
     "output_type": "execute_result"
    }
   ],
   "source": [
    "more_detail_genre_30k['Genre'].describe()"
   ]
  },
  {
   "cell_type": "code",
   "execution_count": 105,
   "metadata": {},
   "outputs": [
    {
     "data": {
      "text/plain": [
       "0       'Young Adult', 'Fiction', 'Science Fiction', '...\n",
       "1                    'Fantasy', 'Young Adult', 'Fiction']\n",
       "2       'Classics', 'Fiction', 'Historical', 'Historic...\n",
       "3                       'Classics', 'Fiction', 'Romance']\n",
       "4       'Young Adult', 'Fantasy', 'Romance', 'Paranorm...\n",
       "5       'Historical', 'Historical Fiction', 'Fiction',...\n",
       "6       'Classics', 'Fiction', 'Science Fiction', 'Dys...\n",
       "7       'Fantasy', 'Classics', 'Fiction', 'Young Adult...\n",
       "8                       'Fantasy', 'Fiction', 'Classics']\n",
       "9       'Classics', 'Historical', 'Historical Fiction'...\n",
       "10      'Young Adult', 'Fiction', 'Romance', 'Contempo...\n",
       "11      'Childrens', 'Childrens', 'Picture Books', 'Cl...\n",
       "12            'Classics', 'Fiction', 'Romance', 'Gothic']\n",
       "13      'Fiction', 'Mystery', 'Thriller', 'Suspense', ...\n",
       "14      'Fiction', 'Historical', 'Historical Fiction',...\n",
       "15         'Classics', 'Fantasy', 'Fiction', 'Childrens']\n",
       "16            'Classics', 'Fiction', 'Horror', 'Fantasy']\n",
       "17      'Classics', 'Fiction', 'Historical', 'Historic...\n",
       "18      'Classics', 'Fiction', 'Romance', 'Historical'...\n",
       "19      'Young Adult', 'Science Fiction', 'Dystopia', ...\n",
       "20      'Classics', 'Plays', 'Fiction', 'Romance', 'Ac...\n",
       "21      'Classics', 'Fiction', 'Young Adult', 'Academi...\n",
       "22        'Fiction', 'Classics', 'Fantasy', 'Philosophy']\n",
       "23      'Classics', 'Fiction', 'Cultural', 'Russia', '...\n",
       "24              'Young Adult', 'Fiction', 'Contemporary']\n",
       "25      'Science Fiction', 'Fiction', 'Young Adult', '...\n",
       "26      'Fantasy', 'Young Adult', 'Fantasy', 'Paranorm...\n",
       "27      'Classics', 'Fiction', 'Academic', 'School', '...\n",
       "28      'Fiction', 'Historical', 'Historical Fiction',...\n",
       "29      'Classics', 'Fiction', 'Young Adult', 'Childre...\n",
       "                              ...                        \n",
       "1970    'Fiction', 'Historical', 'Historical Fiction',...\n",
       "1971    'Crime', 'True Crime', 'History', 'Mystery', '...\n",
       "1972    'Romance', 'Historical Romance', 'Romance', 'H...\n",
       "1973    'Womens Fiction', 'Chick Lit', 'Asian Literatu...\n",
       "1974    'Fiction', 'Literature', 'Russian Literature',...\n",
       "1975    'Fantasy', 'Romance', 'M M Romance', 'Romance'...\n",
       "1976    'Fantasy', 'Young Adult', 'Paranormal', 'Witch...\n",
       "1977          'Fiction', 'Cultural', 'Canada', 'Romance']\n",
       "1978    'Fiction', 'Historical', 'Historical Fiction',...\n",
       "1979    'Young Adult', 'Music', 'Fiction', 'Contempora...\n",
       "1980    'Fiction', 'Historical', 'Historical Fiction',...\n",
       "1981    'Womens Fiction', 'Chick Lit', 'Romance', 'Rom...\n",
       "1982    'Paranormal', 'Vampires', 'Young Adult', 'Fant...\n",
       "1983    'Fantasy', 'Young Adult', 'Fiction', 'Adventur...\n",
       "1984    'Humor', 'Nonfiction', 'Humor', 'Funny', 'Chil...\n",
       "1985    'Humor', 'Sequential Art', 'Comics', 'Sequenti...\n",
       "1986    'Fiction', 'Cultural', 'African American', 'Wo...\n",
       "1987    'Science', 'Environment', 'Textbooks', 'Academ...\n",
       "1988    'Design', 'Architecture', 'Nonfiction', 'Philo...\n",
       "1989    'Horror', 'Young Adult', 'Fantasy', 'Supernatu...\n",
       "1990    'Nonfiction', 'Cultural', 'Latin American', 'L...\n",
       "1991    'Adult Fiction', 'Erotica', 'Paranormal', 'Vam...\n",
       "1992    'Religion', 'Christianity', 'Lds', 'Religion',...\n",
       "1993    'Fiction', 'Humor', 'Classics', 'Humor', 'Come...\n",
       "1994             'Nonfiction', 'Autobiography', 'Memoir']\n",
       "1995                                                    ]\n",
       "1996    'Nonfiction', 'Autobiography', 'Memoir', 'Biog...\n",
       "1997    'Mystery', 'Mystery', 'Crime', 'Fiction', 'Thr...\n",
       "1998                                                    ]\n",
       "1999    'Science Fiction', 'Time Travel', 'Short Stori...\n",
       "Name: Genre, Length: 30000, dtype: object"
      ]
     },
     "execution_count": 105,
     "metadata": {},
     "output_type": "execute_result"
    }
   ],
   "source": [
    "more_detail_genre_30k['Genre'].str.replace('[', '')"
   ]
  },
  {
   "cell_type": "code",
   "execution_count": 106,
   "metadata": {},
   "outputs": [
    {
     "data": {
      "text/plain": [
       "0       ['Young Adult', 'Fiction', 'Science Fiction', ...\n",
       "1                    ['Fantasy', 'Young Adult', 'Fiction'\n",
       "2       ['Classics', 'Fiction', 'Historical', 'Histori...\n",
       "3                       ['Classics', 'Fiction', 'Romance'\n",
       "4       ['Young Adult', 'Fantasy', 'Romance', 'Paranor...\n",
       "5       ['Historical', 'Historical Fiction', 'Fiction'...\n",
       "6       ['Classics', 'Fiction', 'Science Fiction', 'Dy...\n",
       "7       ['Fantasy', 'Classics', 'Fiction', 'Young Adul...\n",
       "8                       ['Fantasy', 'Fiction', 'Classics'\n",
       "9       ['Classics', 'Historical', 'Historical Fiction...\n",
       "10      ['Young Adult', 'Fiction', 'Romance', 'Contemp...\n",
       "11      ['Childrens', 'Childrens', 'Picture Books', 'C...\n",
       "12            ['Classics', 'Fiction', 'Romance', 'Gothic'\n",
       "13      ['Fiction', 'Mystery', 'Thriller', 'Suspense',...\n",
       "14      ['Fiction', 'Historical', 'Historical Fiction'...\n",
       "15         ['Classics', 'Fantasy', 'Fiction', 'Childrens'\n",
       "16            ['Classics', 'Fiction', 'Horror', 'Fantasy'\n",
       "17      ['Classics', 'Fiction', 'Historical', 'Histori...\n",
       "18      ['Classics', 'Fiction', 'Romance', 'Historical...\n",
       "19      ['Young Adult', 'Science Fiction', 'Dystopia',...\n",
       "20      ['Classics', 'Plays', 'Fiction', 'Romance', 'A...\n",
       "21      ['Classics', 'Fiction', 'Young Adult', 'Academ...\n",
       "22        ['Fiction', 'Classics', 'Fantasy', 'Philosophy'\n",
       "23      ['Classics', 'Fiction', 'Cultural', 'Russia', ...\n",
       "24              ['Young Adult', 'Fiction', 'Contemporary'\n",
       "25      ['Science Fiction', 'Fiction', 'Young Adult', ...\n",
       "26      ['Fantasy', 'Young Adult', 'Fantasy', 'Paranor...\n",
       "27      ['Classics', 'Fiction', 'Academic', 'School', ...\n",
       "28      ['Fiction', 'Historical', 'Historical Fiction'...\n",
       "29      ['Classics', 'Fiction', 'Young Adult', 'Childr...\n",
       "                              ...                        \n",
       "1970    ['Fiction', 'Historical', 'Historical Fiction'...\n",
       "1971    ['Crime', 'True Crime', 'History', 'Mystery', ...\n",
       "1972    ['Romance', 'Historical Romance', 'Romance', '...\n",
       "1973    ['Womens Fiction', 'Chick Lit', 'Asian Literat...\n",
       "1974    ['Fiction', 'Literature', 'Russian Literature'...\n",
       "1975    ['Fantasy', 'Romance', 'M M Romance', 'Romance...\n",
       "1976    ['Fantasy', 'Young Adult', 'Paranormal', 'Witc...\n",
       "1977          ['Fiction', 'Cultural', 'Canada', 'Romance'\n",
       "1978    ['Fiction', 'Historical', 'Historical Fiction'...\n",
       "1979    ['Young Adult', 'Music', 'Fiction', 'Contempor...\n",
       "1980    ['Fiction', 'Historical', 'Historical Fiction'...\n",
       "1981    ['Womens Fiction', 'Chick Lit', 'Romance', 'Ro...\n",
       "1982    ['Paranormal', 'Vampires', 'Young Adult', 'Fan...\n",
       "1983    ['Fantasy', 'Young Adult', 'Fiction', 'Adventu...\n",
       "1984    ['Humor', 'Nonfiction', 'Humor', 'Funny', 'Chi...\n",
       "1985    ['Humor', 'Sequential Art', 'Comics', 'Sequent...\n",
       "1986    ['Fiction', 'Cultural', 'African American', 'W...\n",
       "1987    ['Science', 'Environment', 'Textbooks', 'Acade...\n",
       "1988    ['Design', 'Architecture', 'Nonfiction', 'Phil...\n",
       "1989    ['Horror', 'Young Adult', 'Fantasy', 'Supernat...\n",
       "1990    ['Nonfiction', 'Cultural', 'Latin American', '...\n",
       "1991    ['Adult Fiction', 'Erotica', 'Paranormal', 'Va...\n",
       "1992    ['Religion', 'Christianity', 'Lds', 'Religion'...\n",
       "1993    ['Fiction', 'Humor', 'Classics', 'Humor', 'Com...\n",
       "1994             ['Nonfiction', 'Autobiography', 'Memoir'\n",
       "1995                                                    [\n",
       "1996    ['Nonfiction', 'Autobiography', 'Memoir', 'Bio...\n",
       "1997    ['Mystery', 'Mystery', 'Crime', 'Fiction', 'Th...\n",
       "1998                                                    [\n",
       "1999    ['Science Fiction', 'Time Travel', 'Short Stor...\n",
       "Name: Genre, Length: 30000, dtype: object"
      ]
     },
     "execution_count": 106,
     "metadata": {},
     "output_type": "execute_result"
    }
   ],
   "source": [
    "more_detail_genre_30k['Genre'].str.replace(']', '')"
   ]
  },
  {
   "cell_type": "code",
   "execution_count": 107,
   "metadata": {},
   "outputs": [
    {
     "data": {
      "text/plain": [
       "0       ['Young Adult', 'Fiction', 'Science Fiction', ...\n",
       "1                   ['Fantasy', 'Young Adult', 'Fiction']\n",
       "2       ['Classics', 'Fiction', 'Historical', 'Histori...\n",
       "3                      ['Classics', 'Fiction', 'Romance']\n",
       "4       ['Young Adult', 'Fantasy', 'Romance', 'Paranor...\n",
       "5       ['Historical', 'Historical Fiction', 'Fiction'...\n",
       "6       ['Classics', 'Fiction', 'Science Fiction', 'Dy...\n",
       "7       ['Fantasy', 'Classics', 'Fiction', 'Young Adul...\n",
       "8                      ['Fantasy', 'Fiction', 'Classics']\n",
       "9       ['Classics', 'Historical', 'Historical Fiction...\n",
       "10      ['Young Adult', 'Fiction', 'Romance', 'Contemp...\n",
       "11      ['Childrens', 'Childrens', 'Picture Books', 'C...\n",
       "12           ['Classics', 'Fiction', 'Romance', 'Gothic']\n",
       "13      ['Fiction', 'Mystery', 'Thriller', 'Suspense',...\n",
       "14      ['Fiction', 'Historical', 'Historical Fiction'...\n",
       "15        ['Classics', 'Fantasy', 'Fiction', 'Childrens']\n",
       "16           ['Classics', 'Fiction', 'Horror', 'Fantasy']\n",
       "17      ['Classics', 'Fiction', 'Historical', 'Histori...\n",
       "18      ['Classics', 'Fiction', 'Romance', 'Historical...\n",
       "19      ['Young Adult', 'Science Fiction', 'Dystopia',...\n",
       "20      ['Classics', 'Plays', 'Fiction', 'Romance', 'A...\n",
       "21      ['Classics', 'Fiction', 'Young Adult', 'Academ...\n",
       "22       ['Fiction', 'Classics', 'Fantasy', 'Philosophy']\n",
       "23      ['Classics', 'Fiction', 'Cultural', 'Russia', ...\n",
       "24             ['Young Adult', 'Fiction', 'Contemporary']\n",
       "25      ['Science Fiction', 'Fiction', 'Young Adult', ...\n",
       "26      ['Fantasy', 'Young Adult', 'Fantasy', 'Paranor...\n",
       "27      ['Classics', 'Fiction', 'Academic', 'School', ...\n",
       "28      ['Fiction', 'Historical', 'Historical Fiction'...\n",
       "29      ['Classics', 'Fiction', 'Young Adult', 'Childr...\n",
       "                              ...                        \n",
       "1970    ['Fiction', 'Historical', 'Historical Fiction'...\n",
       "1971    ['Crime', 'True Crime', 'History', 'Mystery', ...\n",
       "1972    ['Romance', 'Historical Romance', 'Romance', '...\n",
       "1973    ['Womens Fiction', 'Chick Lit', 'Asian Literat...\n",
       "1974    ['Fiction', 'Literature', 'Russian Literature'...\n",
       "1975    ['Fantasy', 'Romance', 'M M Romance', 'Romance...\n",
       "1976    ['Fantasy', 'Young Adult', 'Paranormal', 'Witc...\n",
       "1977         ['Fiction', 'Cultural', 'Canada', 'Romance']\n",
       "1978    ['Fiction', 'Historical', 'Historical Fiction'...\n",
       "1979    ['Young Adult', 'Music', 'Fiction', 'Contempor...\n",
       "1980    ['Fiction', 'Historical', 'Historical Fiction'...\n",
       "1981    ['Womens Fiction', 'Chick Lit', 'Romance', 'Ro...\n",
       "1982    ['Paranormal', 'Vampires', 'Young Adult', 'Fan...\n",
       "1983    ['Fantasy', 'Young Adult', 'Fiction', 'Adventu...\n",
       "1984    ['Humor', 'Nonfiction', 'Humor', 'Funny', 'Chi...\n",
       "1985    ['Humor', 'Sequential Art', 'Comics', 'Sequent...\n",
       "1986    ['Fiction', 'Cultural', 'African American', 'W...\n",
       "1987    ['Science', 'Environment', 'Textbooks', 'Acade...\n",
       "1988    ['Design', 'Architecture', 'Nonfiction', 'Phil...\n",
       "1989    ['Horror', 'Young Adult', 'Fantasy', 'Supernat...\n",
       "1990    ['Nonfiction', 'Cultural', 'Latin American', '...\n",
       "1991    ['Adult Fiction', 'Erotica', 'Paranormal', 'Va...\n",
       "1992    ['Religion', 'Christianity', 'Lds', 'Religion'...\n",
       "1993    ['Fiction', 'Humor', 'Classics', 'Humor', 'Com...\n",
       "1994            ['Nonfiction', 'Autobiography', 'Memoir']\n",
       "1995                                                   []\n",
       "1996    ['Nonfiction', 'Autobiography', 'Memoir', 'Bio...\n",
       "1997    ['Mystery', 'Mystery', 'Crime', 'Fiction', 'Th...\n",
       "1998                                                   []\n",
       "1999    ['Science Fiction', 'Time Travel', 'Short Stor...\n",
       "Name: Genre, Length: 30000, dtype: object"
      ]
     },
     "execution_count": 107,
     "metadata": {},
     "output_type": "execute_result"
    }
   ],
   "source": [
    "more_detail_genre_30k['Genre'].str.replace(\"''\", '')"
   ]
  },
  {
   "cell_type": "code",
   "execution_count": 108,
   "metadata": {},
   "outputs": [
    {
     "data": {
      "text/html": [
       "<div>\n",
       "<style scoped>\n",
       "    .dataframe tbody tr th:only-of-type {\n",
       "        vertical-align: middle;\n",
       "    }\n",
       "\n",
       "    .dataframe tbody tr th {\n",
       "        vertical-align: top;\n",
       "    }\n",
       "\n",
       "    .dataframe thead th {\n",
       "        text-align: right;\n",
       "    }\n",
       "</style>\n",
       "<table border=\"1\" class=\"dataframe\">\n",
       "  <thead>\n",
       "    <tr style=\"text-align: right;\">\n",
       "      <th></th>\n",
       "      <th>Original Title</th>\n",
       "      <th>ISBN</th>\n",
       "      <th>Edition Language</th>\n",
       "      <th>Series</th>\n",
       "      <th>Characters</th>\n",
       "      <th>setting</th>\n",
       "      <th>Literary Awards</th>\n",
       "      <th>Genre</th>\n",
       "    </tr>\n",
       "  </thead>\n",
       "  <tbody>\n",
       "    <tr>\n",
       "      <th>0</th>\n",
       "      <td>The Hunger Games</td>\n",
       "      <td>0439023483            (ISBN13: 9780439023481)</td>\n",
       "      <td>English</td>\n",
       "      <td>The Hunger Games #1</td>\n",
       "      <td>Katniss Everdeen, Peeta Mellark, Cato (Hunger ...</td>\n",
       "      <td>District 12, Panem Capitol, Panem Panem (Unite...</td>\n",
       "      <td>True</td>\n",
       "      <td>['Young Adult', 'Fiction', 'Science Fiction', ...</td>\n",
       "    </tr>\n",
       "    <tr>\n",
       "      <th>1</th>\n",
       "      <td>Harry Potter and the Order of the Phoenix</td>\n",
       "      <td>0439358078            (ISBN13: 9780439358071)</td>\n",
       "      <td>English</td>\n",
       "      <td>Harry Potter #5</td>\n",
       "      <td>Sirius Black, Draco Malfoy, Ron Weasley, Petun...</td>\n",
       "      <td>Hogwarts School of Witchcraft and Wizardry (Un...</td>\n",
       "      <td>True</td>\n",
       "      <td>['Fantasy', 'Young Adult', 'Fiction']</td>\n",
       "    </tr>\n",
       "    <tr>\n",
       "      <th>2</th>\n",
       "      <td>To Kill a Mockingbird</td>\n",
       "      <td>NaN</td>\n",
       "      <td>English</td>\n",
       "      <td>To Kill a Mockingbird #1</td>\n",
       "      <td>Scout Finch, Atticus Finch, Jem Finch, Arthur ...</td>\n",
       "      <td>Maycomb, Alabama, 1933 (United States)  Alabam...</td>\n",
       "      <td>True</td>\n",
       "      <td>['Classics', 'Fiction', 'Historical', 'Histori...</td>\n",
       "    </tr>\n",
       "    <tr>\n",
       "      <th>3</th>\n",
       "      <td>Pride and Prejudice</td>\n",
       "      <td>NaN</td>\n",
       "      <td>English</td>\n",
       "      <td>NaN</td>\n",
       "      <td>Mr. Bennet, Mrs. Bennet, Jane Bennet, Elizabet...</td>\n",
       "      <td>England Hertfordshire, England Derbyshire, Eng...</td>\n",
       "      <td>True</td>\n",
       "      <td>['Classics', 'Fiction', 'Romance']</td>\n",
       "    </tr>\n",
       "    <tr>\n",
       "      <th>4</th>\n",
       "      <td>Twilight</td>\n",
       "      <td>0316015849            (ISBN13: 9780316015844)</td>\n",
       "      <td>English</td>\n",
       "      <td>Twilight #1</td>\n",
       "      <td>Edward Cullen, Jacob Black, Laurent, Renee, Be...</td>\n",
       "      <td>Forks, Washington (United States)  Phoenix, Ar...</td>\n",
       "      <td>True</td>\n",
       "      <td>['Young Adult', 'Fantasy', 'Romance', 'Paranor...</td>\n",
       "    </tr>\n",
       "  </tbody>\n",
       "</table>\n",
       "</div>"
      ],
      "text/plain": [
       "                              Original Title  \\\n",
       "0                           The Hunger Games   \n",
       "1  Harry Potter and the Order of the Phoenix   \n",
       "2                      To Kill a Mockingbird   \n",
       "3                        Pride and Prejudice   \n",
       "4                                   Twilight   \n",
       "\n",
       "                                            ISBN Edition Language  \\\n",
       "0  0439023483            (ISBN13: 9780439023481)          English   \n",
       "1  0439358078            (ISBN13: 9780439358071)          English   \n",
       "2                                            NaN          English   \n",
       "3                                            NaN          English   \n",
       "4  0316015849            (ISBN13: 9780316015844)          English   \n",
       "\n",
       "                     Series  \\\n",
       "0       The Hunger Games #1   \n",
       "1           Harry Potter #5   \n",
       "2  To Kill a Mockingbird #1   \n",
       "3                       NaN   \n",
       "4               Twilight #1   \n",
       "\n",
       "                                          Characters  \\\n",
       "0  Katniss Everdeen, Peeta Mellark, Cato (Hunger ...   \n",
       "1  Sirius Black, Draco Malfoy, Ron Weasley, Petun...   \n",
       "2  Scout Finch, Atticus Finch, Jem Finch, Arthur ...   \n",
       "3  Mr. Bennet, Mrs. Bennet, Jane Bennet, Elizabet...   \n",
       "4  Edward Cullen, Jacob Black, Laurent, Renee, Be...   \n",
       "\n",
       "                                             setting  Literary Awards  \\\n",
       "0  District 12, Panem Capitol, Panem Panem (Unite...             True   \n",
       "1  Hogwarts School of Witchcraft and Wizardry (Un...             True   \n",
       "2  Maycomb, Alabama, 1933 (United States)  Alabam...             True   \n",
       "3  England Hertfordshire, England Derbyshire, Eng...             True   \n",
       "4  Forks, Washington (United States)  Phoenix, Ar...             True   \n",
       "\n",
       "                                               Genre  \n",
       "0  ['Young Adult', 'Fiction', 'Science Fiction', ...  \n",
       "1              ['Fantasy', 'Young Adult', 'Fiction']  \n",
       "2  ['Classics', 'Fiction', 'Historical', 'Histori...  \n",
       "3                 ['Classics', 'Fiction', 'Romance']  \n",
       "4  ['Young Adult', 'Fantasy', 'Romance', 'Paranor...  "
      ]
     },
     "execution_count": 108,
     "metadata": {},
     "output_type": "execute_result"
    }
   ],
   "source": [
    "more_detail_genre_30k.head()"
   ]
  },
  {
   "cell_type": "code",
   "execution_count": 109,
   "metadata": {},
   "outputs": [
    {
     "data": {
      "text/plain": [
       "count       28187\n",
       "unique         70\n",
       "top       English\n",
       "freq        24489\n",
       "Name: Edition Language, dtype: object"
      ]
     },
     "execution_count": 109,
     "metadata": {},
     "output_type": "execute_result"
    }
   ],
   "source": [
    "more_detail_genre_30k['Edition Language'].describe()"
   ]
  },
  {
   "cell_type": "code",
   "execution_count": 111,
   "metadata": {},
   "outputs": [],
   "source": [
    "detail_genre_check = pd.read_csv('/Users/mattmastin/Desktop/Better Books/more_detail_genre_full_30k.csv')"
   ]
  },
  {
   "cell_type": "code",
   "execution_count": 112,
   "metadata": {},
   "outputs": [
    {
     "name": "stdout",
     "output_type": "stream",
     "text": [
      "(30000, 8)\n"
     ]
    },
    {
     "data": {
      "text/html": [
       "<div>\n",
       "<style scoped>\n",
       "    .dataframe tbody tr th:only-of-type {\n",
       "        vertical-align: middle;\n",
       "    }\n",
       "\n",
       "    .dataframe tbody tr th {\n",
       "        vertical-align: top;\n",
       "    }\n",
       "\n",
       "    .dataframe thead th {\n",
       "        text-align: right;\n",
       "    }\n",
       "</style>\n",
       "<table border=\"1\" class=\"dataframe\">\n",
       "  <thead>\n",
       "    <tr style=\"text-align: right;\">\n",
       "      <th></th>\n",
       "      <th>Original Title</th>\n",
       "      <th>ISBN</th>\n",
       "      <th>Edition Language</th>\n",
       "      <th>Series</th>\n",
       "      <th>Characters</th>\n",
       "      <th>setting</th>\n",
       "      <th>Literary Awards</th>\n",
       "      <th>Genre</th>\n",
       "    </tr>\n",
       "  </thead>\n",
       "  <tbody>\n",
       "    <tr>\n",
       "      <th>0</th>\n",
       "      <td>The Hunger Games</td>\n",
       "      <td>0439023483            (ISBN13: 9780439023481)</td>\n",
       "      <td>English</td>\n",
       "      <td>The Hunger Games #1</td>\n",
       "      <td>Katniss Everdeen, Peeta Mellark, Cato (Hunger ...</td>\n",
       "      <td>District 12, Panem Capitol, Panem Panem (Unite...</td>\n",
       "      <td>True</td>\n",
       "      <td>['Young Adult', 'Fiction', 'Science Fiction', ...</td>\n",
       "    </tr>\n",
       "    <tr>\n",
       "      <th>1</th>\n",
       "      <td>Harry Potter and the Order of the Phoenix</td>\n",
       "      <td>0439358078            (ISBN13: 9780439358071)</td>\n",
       "      <td>English</td>\n",
       "      <td>Harry Potter #5</td>\n",
       "      <td>Sirius Black, Draco Malfoy, Ron Weasley, Petun...</td>\n",
       "      <td>Hogwarts School of Witchcraft and Wizardry (Un...</td>\n",
       "      <td>True</td>\n",
       "      <td>['Fantasy', 'Young Adult', 'Fiction']</td>\n",
       "    </tr>\n",
       "    <tr>\n",
       "      <th>2</th>\n",
       "      <td>To Kill a Mockingbird</td>\n",
       "      <td>NaN</td>\n",
       "      <td>English</td>\n",
       "      <td>To Kill a Mockingbird #1</td>\n",
       "      <td>Scout Finch, Atticus Finch, Jem Finch, Arthur ...</td>\n",
       "      <td>Maycomb, Alabama, 1933 (United States)  Alabam...</td>\n",
       "      <td>True</td>\n",
       "      <td>['Classics', 'Fiction', 'Historical', 'Histori...</td>\n",
       "    </tr>\n",
       "    <tr>\n",
       "      <th>3</th>\n",
       "      <td>Pride and Prejudice</td>\n",
       "      <td>NaN</td>\n",
       "      <td>English</td>\n",
       "      <td>NaN</td>\n",
       "      <td>Mr. Bennet, Mrs. Bennet, Jane Bennet, Elizabet...</td>\n",
       "      <td>England Hertfordshire, England Derbyshire, Eng...</td>\n",
       "      <td>True</td>\n",
       "      <td>['Classics', 'Fiction', 'Romance']</td>\n",
       "    </tr>\n",
       "    <tr>\n",
       "      <th>4</th>\n",
       "      <td>Twilight</td>\n",
       "      <td>0316015849            (ISBN13: 9780316015844)</td>\n",
       "      <td>English</td>\n",
       "      <td>Twilight #1</td>\n",
       "      <td>Edward Cullen, Jacob Black, Laurent, Renee, Be...</td>\n",
       "      <td>Forks, Washington (United States)  Phoenix, Ar...</td>\n",
       "      <td>True</td>\n",
       "      <td>['Young Adult', 'Fantasy', 'Romance', 'Paranor...</td>\n",
       "    </tr>\n",
       "  </tbody>\n",
       "</table>\n",
       "</div>"
      ],
      "text/plain": [
       "                              Original Title  \\\n",
       "0                           The Hunger Games   \n",
       "1  Harry Potter and the Order of the Phoenix   \n",
       "2                      To Kill a Mockingbird   \n",
       "3                        Pride and Prejudice   \n",
       "4                                   Twilight   \n",
       "\n",
       "                                            ISBN Edition Language  \\\n",
       "0  0439023483            (ISBN13: 9780439023481)          English   \n",
       "1  0439358078            (ISBN13: 9780439358071)          English   \n",
       "2                                            NaN          English   \n",
       "3                                            NaN          English   \n",
       "4  0316015849            (ISBN13: 9780316015844)          English   \n",
       "\n",
       "                     Series  \\\n",
       "0       The Hunger Games #1   \n",
       "1           Harry Potter #5   \n",
       "2  To Kill a Mockingbird #1   \n",
       "3                       NaN   \n",
       "4               Twilight #1   \n",
       "\n",
       "                                          Characters  \\\n",
       "0  Katniss Everdeen, Peeta Mellark, Cato (Hunger ...   \n",
       "1  Sirius Black, Draco Malfoy, Ron Weasley, Petun...   \n",
       "2  Scout Finch, Atticus Finch, Jem Finch, Arthur ...   \n",
       "3  Mr. Bennet, Mrs. Bennet, Jane Bennet, Elizabet...   \n",
       "4  Edward Cullen, Jacob Black, Laurent, Renee, Be...   \n",
       "\n",
       "                                             setting  Literary Awards  \\\n",
       "0  District 12, Panem Capitol, Panem Panem (Unite...             True   \n",
       "1  Hogwarts School of Witchcraft and Wizardry (Un...             True   \n",
       "2  Maycomb, Alabama, 1933 (United States)  Alabam...             True   \n",
       "3  England Hertfordshire, England Derbyshire, Eng...             True   \n",
       "4  Forks, Washington (United States)  Phoenix, Ar...             True   \n",
       "\n",
       "                                               Genre  \n",
       "0  ['Young Adult', 'Fiction', 'Science Fiction', ...  \n",
       "1              ['Fantasy', 'Young Adult', 'Fiction']  \n",
       "2  ['Classics', 'Fiction', 'Historical', 'Histori...  \n",
       "3                 ['Classics', 'Fiction', 'Romance']  \n",
       "4  ['Young Adult', 'Fantasy', 'Romance', 'Paranor...  "
      ]
     },
     "execution_count": 112,
     "metadata": {},
     "output_type": "execute_result"
    }
   ],
   "source": [
    "print(detail_genre_check.shape)\n",
    "detail_genre_check.head()"
   ]
  },
  {
   "cell_type": "code",
   "execution_count": 114,
   "metadata": {},
   "outputs": [
    {
     "data": {
      "text/plain": [
       "Original Title      object\n",
       "ISBN                object\n",
       "Edition Language    object\n",
       "Series              object\n",
       "Characters          object\n",
       "setting             object\n",
       "Literary Awards       bool\n",
       "Genre               object\n",
       "dtype: object"
      ]
     },
     "execution_count": 114,
     "metadata": {},
     "output_type": "execute_result"
    }
   ],
   "source": [
    "detail_genre_check.dtypes"
   ]
  },
  {
   "cell_type": "code",
   "execution_count": null,
   "metadata": {},
   "outputs": [],
   "source": []
  }
 ],
 "metadata": {
  "kernelspec": {
   "display_name": "Python 3",
   "language": "python",
   "name": "python3"
  },
  "language_info": {
   "codemirror_mode": {
    "name": "ipython",
    "version": 3
   },
   "file_extension": ".py",
   "mimetype": "text/x-python",
   "name": "python",
   "nbconvert_exporter": "python",
   "pygments_lexer": "ipython3",
   "version": "3.7.3"
  }
 },
 "nbformat": 4,
 "nbformat_minor": 2
}
